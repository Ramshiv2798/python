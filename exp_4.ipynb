{
  "nbformat": 4,
  "nbformat_minor": 0,
  "metadata": {
    "colab": {
      "provenance": [],
      "authorship_tag": "ABX9TyMY5yizZcLQkuOzbI0P0MGz",
      "include_colab_link": true
    },
    "kernelspec": {
      "name": "python3",
      "display_name": "Python 3"
    },
    "language_info": {
      "name": "python"
    }
  },
  "cells": [
    {
      "cell_type": "markdown",
      "metadata": {
        "id": "view-in-github",
        "colab_type": "text"
      },
      "source": [
        "<a href=\"https://colab.research.google.com/github/Ramshiv2798/python/blob/main/exp_4.ipynb\" target=\"_parent\"><img src=\"https://colab.research.google.com/assets/colab-badge.svg\" alt=\"Open In Colab\"/></a>"
      ]
    },
    {
      "cell_type": "code",
      "source": [
        "import nltk\n",
        "from nltk.corpus import stopwords\n",
        "from nltk.tokenize import word_tokenize, sent_tokenize\n",
        "\n",
        "\n",
        "nltk.download('punkt_tab')\n",
        "nltk.download('stopwords')\n",
        "\n",
        "nltk.download('averaged_perceptron_tagger_eng')\n",
        "\n",
        "stop_words = set(stopwords.words('english'))\n",
        "\n"
      ],
      "metadata": {
        "colab": {
          "base_uri": "https://localhost:8080/"
        },
        "id": "Dpspy1oGY9ve",
        "outputId": "215040a9-e80c-428d-fdad-0367c8a41606"
      },
      "execution_count": 11,
      "outputs": [
        {
          "output_type": "stream",
          "name": "stderr",
          "text": [
            "[nltk_data] Downloading package punkt_tab to /root/nltk_data...\n",
            "[nltk_data]   Package punkt_tab is already up-to-date!\n",
            "[nltk_data] Downloading package stopwords to /root/nltk_data...\n",
            "[nltk_data]   Package stopwords is already up-to-date!\n",
            "[nltk_data] Downloading package averaged_perceptron_tagger_eng to\n",
            "[nltk_data]     /root/nltk_data...\n",
            "[nltk_data]   Unzipping taggers/averaged_perceptron_tagger_eng.zip.\n"
          ]
        }
      ]
    },
    {
      "source": [
        "import nltk\n",
        "from nltk.corpus import stopwords\n",
        "from nltk.tokenize import word_tokenize, sent_tokenize\n",
        "\n",
        "\n",
        "nltk.download('punkt_tab')\n",
        "nltk.download('stopwords')\n",
        "nltk.download('averaged_perceptron_tagger')\n",
        "\n",
        "stop_words = set(stopwords.words('english'))\n",
        "\n",
        "txt = (\n",
        "    \"Sukanya, Rajib and Naba are my good friends. \"\n",
        "    \"Sukanya is getting married next year. \"\n",
        "    \"Marriage is a big step in one’s life. \"\n",
        "    \"It is both exciting and frightening. \"\n",
        "    \"But friendship is a sacred bond between people. \"\n",
        "    \"It is a special kind of love between us. \"\n",
        "    \"Many of you must have tried searching for a friend \"\n",
        "    \"but never found the right one.\"\n",
        ")\n",
        "\n",
        "tokenized = sent_tokenize(txt)\n",
        "for i in tokenized:\n",
        "    wordsList = word_tokenize(i)\n",
        "    wordsList = [w for w in wordsList if not w in stop_words]\n",
        "    tagged = nltk.pos_tag(wordsList)\n",
        "    print(tagged)\n",
        "\n",
        "\n",
        "txt2 = (\n",
        "    \"Marriage is a big step in one’s life. \"\n",
        "    \"It is both exciting and frightening. \"\n",
        "    \"But friendship is a sacred bond between people. \"\n",
        "    \"It is a special kind of love between us. \"\n",
        "    \"Many of you must have tried searching for a friend \"\n",
        "    \"but never found the right one.\"\n",
        ")\n",
        "\n",
        "tokenized = sent_tokenize(txt2)\n",
        "for i in tokenized:\n",
        "    wordsList = word_tokenize(i)\n",
        "    wordsList = [w for w in wordsList if not w in stop_words]\n",
        "    tagged = nltk.pos_tag(wordsList)\n",
        "    print(tagged)"
      ],
      "cell_type": "code",
      "metadata": {
        "colab": {
          "base_uri": "https://localhost:8080/"
        },
        "id": "RuV2UrKiYxgG",
        "outputId": "f47257d6-3b05-48a7-8d19-c0ee24184244"
      },
      "execution_count": 12,
      "outputs": [
        {
          "output_type": "stream",
          "name": "stdout",
          "text": [
            "[('Sukanya', 'NNP'), (',', ','), ('Rajib', 'NNP'), ('Naba', 'NNP'), ('good', 'JJ'), ('friends', 'NNS'), ('.', '.')]\n",
            "[('Sukanya', 'NNP'), ('getting', 'VBG'), ('married', 'VBN'), ('next', 'JJ'), ('year', 'NN'), ('.', '.')]\n",
            "[('Marriage', 'NN'), ('big', 'JJ'), ('step', 'NN'), ('one', 'CD'), ('’', 'NNP'), ('life', 'NN'), ('.', '.')]\n",
            "[('It', 'PRP'), ('exciting', 'VBG'), ('frightening', 'VBG'), ('.', '.')]\n",
            "[('But', 'CC'), ('friendship', 'NN'), ('sacred', 'VBD'), ('bond', 'NN'), ('people', 'NNS'), ('.', '.')]\n",
            "[('It', 'PRP'), ('special', 'JJ'), ('kind', 'NN'), ('love', 'VB'), ('us', 'PRP'), ('.', '.')]\n",
            "[('Many', 'JJ'), ('must', 'MD'), ('tried', 'VB'), ('searching', 'VBG'), ('friend', 'NN'), ('never', 'RB'), ('found', 'VBD'), ('right', 'JJ'), ('one', 'CD'), ('.', '.')]\n",
            "[('Marriage', 'NN'), ('big', 'JJ'), ('step', 'NN'), ('one', 'CD'), ('’', 'NNP'), ('life', 'NN'), ('.', '.')]\n",
            "[('It', 'PRP'), ('exciting', 'VBG'), ('frightening', 'VBG'), ('.', '.')]\n",
            "[('But', 'CC'), ('friendship', 'NN'), ('sacred', 'VBD'), ('bond', 'NN'), ('people', 'NNS'), ('.', '.')]\n",
            "[('It', 'PRP'), ('special', 'JJ'), ('kind', 'NN'), ('love', 'VB'), ('us', 'PRP'), ('.', '.')]\n",
            "[('Many', 'JJ'), ('must', 'MD'), ('tried', 'VB'), ('searching', 'VBG'), ('friend', 'NN'), ('never', 'RB'), ('found', 'VBD'), ('right', 'JJ'), ('one', 'CD'), ('.', '.')]\n"
          ]
        },
        {
          "output_type": "stream",
          "name": "stderr",
          "text": [
            "[nltk_data] Downloading package punkt_tab to /root/nltk_data...\n",
            "[nltk_data]   Package punkt_tab is already up-to-date!\n",
            "[nltk_data] Downloading package stopwords to /root/nltk_data...\n",
            "[nltk_data]   Package stopwords is already up-to-date!\n",
            "[nltk_data] Downloading package averaged_perceptron_tagger to\n",
            "[nltk_data]     /root/nltk_data...\n",
            "[nltk_data]   Package averaged_perceptron_tagger is already up-to-\n",
            "[nltk_data]       date!\n"
          ]
        }
      ]
    },
    {
      "cell_type": "code",
      "source": [
        "import pandas as pd\n",
        "import nltk\n",
        "\n",
        "\n",
        "nltk.download('punkt')\n",
        "nltk.download('averaged_perceptron_tagger')\n",
        "\n",
        "\n",
        "data = pd.read_csv('/content/pos.csv')\n",
        "\n",
        "\n",
        "text_data = data['word'].tolist()\n",
        "\n",
        "\n",
        "pos_tags = []\n",
        "\n",
        "\n",
        "for text in text_data:\n",
        "    if isinstance(text, str):\n",
        "\n",
        "        tokens = nltk.word_tokenize(text)\n",
        "        tags = nltk.pos_tag(tokens)\n",
        "        pos_tags.append(tags)\n",
        "    else:\n",
        "        print(f\"Skipping non-string value: {text}\")\n",
        "\n",
        "\n",
        "pos_tags_df = pd.DataFrame(pos_tags)\n",
        "\n",
        "\n",
        "print(pos_tags_df.head())\n"
      ],
      "metadata": {
        "colab": {
          "base_uri": "https://localhost:8080/"
        },
        "id": "fO_pdMPFbRiU",
        "outputId": "a2015bd0-21ca-4084-d5a2-bf3b70a59082"
      },
      "execution_count": 16,
      "outputs": [
        {
          "output_type": "stream",
          "name": "stderr",
          "text": [
            "[nltk_data] Downloading package punkt to /root/nltk_data...\n",
            "[nltk_data]   Package punkt is already up-to-date!\n",
            "[nltk_data] Downloading package averaged_perceptron_tagger to\n",
            "[nltk_data]     /root/nltk_data...\n",
            "[nltk_data]   Package averaged_perceptron_tagger is already up-to-\n",
            "[nltk_data]       date!\n",
            "<ipython-input-16-11983742dd45>:9: DtypeWarning: Columns (3) have mixed types. Specify dtype option on import or set low_memory=False.\n",
            "  data = pd.read_csv('/content/pos.csv')\n"
          ]
        },
        {
          "output_type": "stream",
          "name": "stdout",
          "text": [
            "Skipping non-string value: nan\n",
            "Skipping non-string value: nan\n",
            "Skipping non-string value: nan\n",
            "              0     1     2     3     4\n",
            "0   (abort, NN)  None  None  None  None\n",
            "1     (3-d, JJ)  None  None  None  None\n",
            "2     (4-f, JJ)  None  None  None  None\n",
            "3  (4-h'er, JJ)  None  None  None  None\n",
            "4     (4-h, JJ)  None  None  None  None\n"
          ]
        }
      ]
    }
  ]
}