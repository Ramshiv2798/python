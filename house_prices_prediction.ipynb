{
  "metadata": {
    "kernelspec": {
      "language": "python",
      "display_name": "Python 3",
      "name": "python3"
    },
    "language_info": {
      "name": "python",
      "version": "3.10.13",
      "mimetype": "text/x-python",
      "codemirror_mode": {
        "name": "ipython",
        "version": 3
      },
      "pygments_lexer": "ipython3",
      "nbconvert_exporter": "python",
      "file_extension": ".py"
    },
    "kaggle": {
      "accelerator": "none",
      "dataSources": [
        {
          "sourceId": 5407,
          "databundleVersionId": 868283,
          "sourceType": "competition"
        }
      ],
      "dockerImageVersionId": 30698,
      "isInternetEnabled": true,
      "language": "python",
      "sourceType": "notebook",
      "isGpuEnabled": false
    },
    "colab": {
      "name": "house prices prediction",
      "provenance": [],
      "include_colab_link": true
    }
  },
  "nbformat_minor": 0,
  "nbformat": 4,
  "cells": [
    {
      "cell_type": "markdown",
      "metadata": {
        "id": "view-in-github",
        "colab_type": "text"
      },
      "source": [
        "<a href=\"https://colab.research.google.com/github/Ramshiv2798/python/blob/main/house_prices_prediction.ipynb\" target=\"_parent\"><img src=\"https://colab.research.google.com/assets/colab-badge.svg\" alt=\"Open In Colab\"/></a>"
      ]
    },
    {
      "source": [
        "# IMPORTANT: SOME KAGGLE DATA SOURCES ARE PRIVATE\n",
        "# RUN THIS CELL IN ORDER TO IMPORT YOUR KAGGLE DATA SOURCES.\n",
        "import kagglehub\n",
        "kagglehub.login()\n"
      ],
      "metadata": {
        "id": "oSd_lYLTa0ql"
      },
      "cell_type": "code",
      "outputs": [],
      "execution_count": null
    },
    {
      "source": [
        "# IMPORTANT: RUN THIS CELL IN ORDER TO IMPORT YOUR KAGGLE DATA SOURCES,\n",
        "# THEN FEEL FREE TO DELETE THIS CELL.\n",
        "# NOTE: THIS NOTEBOOK ENVIRONMENT DIFFERS FROM KAGGLE'S PYTHON\n",
        "# ENVIRONMENT SO THERE MAY BE MISSING LIBRARIES USED BY YOUR\n",
        "# NOTEBOOK.\n",
        "\n",
        "house_prices_advanced_regression_techniques_path = kagglehub.competition_download('house-prices-advanced-regression-techniques')\n",
        "\n",
        "print('Data source import complete.')\n"
      ],
      "metadata": {
        "id": "ZmKioWBha0qn"
      },
      "cell_type": "code",
      "outputs": [],
      "execution_count": null
    },
    {
      "cell_type": "code",
      "source": [
        "import tensorflow as tf\n",
        "import tensorflow_decision_forests as tfdf\n",
        "import pandas as pd\n",
        "import seaborn as sns\n",
        "import matplotlib.pyplot as plt\n",
        "\n",
        "%matplotlib inline"
      ],
      "metadata": {
        "_uuid": "8f2839f25d086af736a60e9eeb907d3b93b6e0e5",
        "_cell_guid": "b1076dfc-b9ad-4769-8c92-a6c4dae69d19",
        "execution": {
          "iopub.status.busy": "2024-05-13T05:46:27.335359Z",
          "iopub.execute_input": "2024-05-13T05:46:27.336074Z",
          "iopub.status.idle": "2024-05-13T05:46:47.553811Z",
          "shell.execute_reply.started": "2024-05-13T05:46:27.336027Z",
          "shell.execute_reply": "2024-05-13T05:46:47.552389Z"
        },
        "trusted": true,
        "id": "9SlUQH9oa0qp"
      },
      "execution_count": null,
      "outputs": []
    },
    {
      "cell_type": "code",
      "source": [
        "print(\"TensorFlow v\" + tf.__version__)\n",
        "print(\"TensorFlow Decision Forests v\" + tfdf.__version__)"
      ],
      "metadata": {
        "execution": {
          "iopub.status.busy": "2024-05-13T05:49:47.51164Z",
          "iopub.execute_input": "2024-05-13T05:49:47.512925Z",
          "iopub.status.idle": "2024-05-13T05:49:47.521297Z",
          "shell.execute_reply.started": "2024-05-13T05:49:47.512863Z",
          "shell.execute_reply": "2024-05-13T05:49:47.52009Z"
        },
        "trusted": true,
        "id": "rrZ6uGeFa0qq"
      },
      "execution_count": null,
      "outputs": []
    },
    {
      "cell_type": "code",
      "source": [
        "train_file_path = \"../input/house-prices-advanced-regression-techniques/train.csv\"\n",
        "dataset_df = pd.read_csv(train_file_path)\n",
        "print(\"Full train dataset shape is {}\".format(dataset_df.shape))"
      ],
      "metadata": {
        "execution": {
          "iopub.status.busy": "2024-05-13T05:50:38.62939Z",
          "iopub.execute_input": "2024-05-13T05:50:38.629874Z",
          "iopub.status.idle": "2024-05-13T05:50:38.691599Z",
          "shell.execute_reply.started": "2024-05-13T05:50:38.62984Z",
          "shell.execute_reply": "2024-05-13T05:50:38.689932Z"
        },
        "trusted": true,
        "id": "2B99PYGma0qr"
      },
      "execution_count": null,
      "outputs": []
    },
    {
      "cell_type": "code",
      "source": [
        "dataset_df.head(4)"
      ],
      "metadata": {
        "execution": {
          "iopub.status.busy": "2024-05-13T05:51:23.144038Z",
          "iopub.execute_input": "2024-05-13T05:51:23.144512Z",
          "iopub.status.idle": "2024-05-13T05:51:23.192175Z",
          "shell.execute_reply.started": "2024-05-13T05:51:23.144481Z",
          "shell.execute_reply": "2024-05-13T05:51:23.190836Z"
        },
        "trusted": true,
        "id": "OdZi8wYCa0qs"
      },
      "execution_count": null,
      "outputs": []
    },
    {
      "cell_type": "code",
      "source": [
        "dataset_df = dataset_df.drop('Id', axis=1)\n",
        "dataset_df.head(4)"
      ],
      "metadata": {
        "execution": {
          "iopub.status.busy": "2024-05-13T05:51:53.013055Z",
          "iopub.execute_input": "2024-05-13T05:51:53.013494Z",
          "iopub.status.idle": "2024-05-13T05:51:53.049859Z",
          "shell.execute_reply.started": "2024-05-13T05:51:53.013463Z",
          "shell.execute_reply": "2024-05-13T05:51:53.048624Z"
        },
        "trusted": true,
        "id": "GyZD__Rca0qs"
      },
      "execution_count": null,
      "outputs": []
    },
    {
      "cell_type": "code",
      "source": [
        "dataset_df.info()"
      ],
      "metadata": {
        "execution": {
          "iopub.status.busy": "2024-05-13T05:52:29.365131Z",
          "iopub.execute_input": "2024-05-13T05:52:29.365597Z",
          "iopub.status.idle": "2024-05-13T05:52:29.403078Z",
          "shell.execute_reply.started": "2024-05-13T05:52:29.365566Z",
          "shell.execute_reply": "2024-05-13T05:52:29.401501Z"
        },
        "trusted": true,
        "id": "l3ZbQZlfa0qt"
      },
      "execution_count": null,
      "outputs": []
    },
    {
      "cell_type": "code",
      "source": [
        "print(dataset_df['SalePrice'].describe())\n",
        "plt.figure(figsize=(9, 8))\n",
        "sns.distplot(dataset_df['SalePrice'], color='g', bins=100, hist_kws={'alpha': 0.4});"
      ],
      "metadata": {
        "execution": {
          "iopub.status.busy": "2024-05-13T05:55:10.097152Z",
          "iopub.execute_input": "2024-05-13T05:55:10.097661Z",
          "iopub.status.idle": "2024-05-13T05:55:10.660874Z",
          "shell.execute_reply.started": "2024-05-13T05:55:10.097625Z",
          "shell.execute_reply": "2024-05-13T05:55:10.659372Z"
        },
        "trusted": true,
        "id": "nflwoCzpa0qu"
      },
      "execution_count": null,
      "outputs": []
    },
    {
      "cell_type": "code",
      "source": [
        "list(set(dataset_df.dtypes.tolist()))"
      ],
      "metadata": {
        "execution": {
          "iopub.status.busy": "2024-05-13T05:55:41.392281Z",
          "iopub.execute_input": "2024-05-13T05:55:41.392773Z",
          "iopub.status.idle": "2024-05-13T05:55:41.402467Z",
          "shell.execute_reply.started": "2024-05-13T05:55:41.39274Z",
          "shell.execute_reply": "2024-05-13T05:55:41.400842Z"
        },
        "trusted": true,
        "id": "uzOjZvQKa0qv"
      },
      "execution_count": null,
      "outputs": []
    },
    {
      "cell_type": "code",
      "source": [
        "df_num = dataset_df.select_dtypes(include = ['float64', 'int64'])\n",
        "df_num.head()"
      ],
      "metadata": {
        "execution": {
          "iopub.status.busy": "2024-05-13T05:55:57.99818Z",
          "iopub.execute_input": "2024-05-13T05:55:57.99865Z",
          "iopub.status.idle": "2024-05-13T05:55:58.025522Z",
          "shell.execute_reply.started": "2024-05-13T05:55:57.998619Z",
          "shell.execute_reply": "2024-05-13T05:55:58.023081Z"
        },
        "trusted": true,
        "id": "KyEYlhVVa0qv"
      },
      "execution_count": null,
      "outputs": []
    },
    {
      "cell_type": "code",
      "source": [
        "df_num.hist(figsize=(13, 18), bins=50, xlabelsize=8, ylabelsize=8);"
      ],
      "metadata": {
        "execution": {
          "iopub.status.busy": "2024-05-13T05:56:31.24465Z",
          "iopub.execute_input": "2024-05-13T05:56:31.245092Z",
          "iopub.status.idle": "2024-05-13T05:56:42.427854Z",
          "shell.execute_reply.started": "2024-05-13T05:56:31.245061Z",
          "shell.execute_reply": "2024-05-13T05:56:42.426626Z"
        },
        "trusted": true,
        "id": "zoemWuisa0qv"
      },
      "execution_count": null,
      "outputs": []
    },
    {
      "cell_type": "code",
      "source": [
        "import numpy as np\n",
        "\n",
        "def split_dataset(dataset, test_ratio=0.30):\n",
        "  test_indices = np.random.rand(len(dataset)) < test_ratio\n",
        "  return dataset[~test_indices], dataset[test_indices]\n",
        "\n",
        "train_ds_pd, valid_ds_pd = split_dataset(dataset_df)\n",
        "print(\"{} examples in training, {} examples in testing.\".format(\n",
        "    len(train_ds_pd), len(valid_ds_pd)))"
      ],
      "metadata": {
        "execution": {
          "iopub.status.busy": "2024-05-13T05:57:38.373278Z",
          "iopub.execute_input": "2024-05-13T05:57:38.37379Z",
          "iopub.status.idle": "2024-05-13T05:57:38.386148Z",
          "shell.execute_reply.started": "2024-05-13T05:57:38.373756Z",
          "shell.execute_reply": "2024-05-13T05:57:38.384598Z"
        },
        "trusted": true,
        "id": "lGJSZqjJa0qw"
      },
      "execution_count": null,
      "outputs": []
    },
    {
      "cell_type": "code",
      "source": [
        "label = 'SalePrice'\n",
        "train_ds = tfdf.keras.pd_dataframe_to_tf_dataset(train_ds_pd, label=label, task = tfdf.keras.Task.REGRESSION)\n",
        "valid_ds = tfdf.keras.pd_dataframe_to_tf_dataset(valid_ds_pd, label=label, task = tfdf.keras.Task.REGRESSION)"
      ],
      "metadata": {
        "execution": {
          "iopub.status.busy": "2024-05-13T06:00:11.872889Z",
          "iopub.execute_input": "2024-05-13T06:00:11.873325Z",
          "iopub.status.idle": "2024-05-13T06:00:12.149105Z",
          "shell.execute_reply.started": "2024-05-13T06:00:11.873295Z",
          "shell.execute_reply": "2024-05-13T06:00:12.147437Z"
        },
        "trusted": true,
        "id": "roOdJl-ba0qw"
      },
      "execution_count": null,
      "outputs": []
    },
    {
      "cell_type": "code",
      "source": [
        "tfdf.keras.get_all_models()"
      ],
      "metadata": {
        "execution": {
          "iopub.status.busy": "2024-05-13T06:00:35.503339Z",
          "iopub.execute_input": "2024-05-13T06:00:35.503868Z",
          "iopub.status.idle": "2024-05-13T06:00:35.513611Z",
          "shell.execute_reply.started": "2024-05-13T06:00:35.503831Z",
          "shell.execute_reply": "2024-05-13T06:00:35.512363Z"
        },
        "trusted": true,
        "id": "naiNDvUpa0qw"
      },
      "execution_count": null,
      "outputs": []
    },
    {
      "cell_type": "code",
      "source": [
        "rf = tfdf.keras.RandomForestModel(task = tfdf.keras.Task.REGRESSION)\n",
        "rf.compile(metrics=[\"mse\"])"
      ],
      "metadata": {
        "execution": {
          "iopub.status.busy": "2024-05-13T06:01:04.299187Z",
          "iopub.execute_input": "2024-05-13T06:01:04.29963Z",
          "iopub.status.idle": "2024-05-13T06:01:04.371084Z",
          "shell.execute_reply.started": "2024-05-13T06:01:04.299597Z",
          "shell.execute_reply": "2024-05-13T06:01:04.369214Z"
        },
        "trusted": true,
        "id": "5Oi7vhEKa0qw"
      },
      "execution_count": null,
      "outputs": []
    },
    {
      "cell_type": "code",
      "source": [
        "rf.fit(x=train_ds)"
      ],
      "metadata": {
        "execution": {
          "iopub.status.busy": "2024-05-13T06:01:28.469304Z",
          "iopub.execute_input": "2024-05-13T06:01:28.469839Z",
          "iopub.status.idle": "2024-05-13T06:01:57.72158Z",
          "shell.execute_reply.started": "2024-05-13T06:01:28.469797Z",
          "shell.execute_reply": "2024-05-13T06:01:57.719924Z"
        },
        "trusted": true,
        "id": "UK1N3TYpa0qx"
      },
      "execution_count": null,
      "outputs": []
    },
    {
      "cell_type": "code",
      "source": [
        "tfdf.model_plotter.plot_model_in_colab(rf, tree_idx=0, max_depth=4)"
      ],
      "metadata": {
        "execution": {
          "iopub.status.busy": "2024-05-13T06:02:37.673477Z",
          "iopub.execute_input": "2024-05-13T06:02:37.673996Z",
          "iopub.status.idle": "2024-05-13T06:02:37.704491Z",
          "shell.execute_reply.started": "2024-05-13T06:02:37.673961Z",
          "shell.execute_reply": "2024-05-13T06:02:37.702963Z"
        },
        "trusted": true,
        "id": "oxigHFFPa0qx"
      },
      "execution_count": null,
      "outputs": []
    },
    {
      "cell_type": "code",
      "source": [
        "import matplotlib.pyplot as plt\n",
        "logs = rf.make_inspector().training_logs()\n",
        "plt.plot([log.num_trees for log in logs], [log.evaluation.rmse for log in logs])\n",
        "plt.xlabel(\"Number of trees\")\n",
        "plt.ylabel(\"RMSE (out-of-bag)\")\n",
        "plt.show()\n"
      ],
      "metadata": {
        "execution": {
          "iopub.status.busy": "2024-05-13T06:02:56.732094Z",
          "iopub.execute_input": "2024-05-13T06:02:56.732505Z",
          "iopub.status.idle": "2024-05-13T06:02:57.001679Z",
          "shell.execute_reply.started": "2024-05-13T06:02:56.732474Z",
          "shell.execute_reply": "2024-05-13T06:02:57.000206Z"
        },
        "trusted": true,
        "id": "zZG3SPIVa0qx"
      },
      "execution_count": null,
      "outputs": []
    },
    {
      "cell_type": "code",
      "source": [
        "inspector = rf.make_inspector()\n",
        "inspector.evaluation()"
      ],
      "metadata": {
        "execution": {
          "iopub.status.busy": "2024-05-13T06:03:16.251207Z",
          "iopub.execute_input": "2024-05-13T06:03:16.25166Z",
          "iopub.status.idle": "2024-05-13T06:03:16.26445Z",
          "shell.execute_reply.started": "2024-05-13T06:03:16.251627Z",
          "shell.execute_reply": "2024-05-13T06:03:16.262854Z"
        },
        "trusted": true,
        "id": "QE_seoD-a0qx"
      },
      "execution_count": null,
      "outputs": []
    },
    {
      "cell_type": "code",
      "source": [
        "evaluation = rf.evaluate(x=valid_ds,return_dict=True)\n",
        "\n",
        "for name, value in evaluation.items():\n",
        "  print(f\"{name}: {value:.4f}\")"
      ],
      "metadata": {
        "execution": {
          "iopub.status.busy": "2024-05-13T06:04:47.197063Z",
          "iopub.execute_input": "2024-05-13T06:04:47.197578Z",
          "iopub.status.idle": "2024-05-13T06:04:56.10229Z",
          "shell.execute_reply.started": "2024-05-13T06:04:47.197547Z",
          "shell.execute_reply": "2024-05-13T06:04:56.100822Z"
        },
        "trusted": true,
        "id": "Rfo5su9Ca0qy"
      },
      "execution_count": null,
      "outputs": []
    },
    {
      "cell_type": "code",
      "source": [
        "print(f\"Available variable importances:\")\n",
        "for importance in inspector.variable_importances().keys():\n",
        "  print(\"\\t\", importance)"
      ],
      "metadata": {
        "execution": {
          "iopub.status.busy": "2024-05-13T06:05:24.267702Z",
          "iopub.execute_input": "2024-05-13T06:05:24.268239Z",
          "iopub.status.idle": "2024-05-13T06:05:24.277921Z",
          "shell.execute_reply.started": "2024-05-13T06:05:24.268201Z",
          "shell.execute_reply": "2024-05-13T06:05:24.276347Z"
        },
        "trusted": true,
        "id": "xd6IfzQga0qy"
      },
      "execution_count": null,
      "outputs": []
    },
    {
      "cell_type": "code",
      "source": [
        "inspector.variable_importances()[\"NUM_AS_ROOT\"]"
      ],
      "metadata": {
        "execution": {
          "iopub.status.busy": "2024-05-13T06:05:43.816373Z",
          "iopub.execute_input": "2024-05-13T06:05:43.817988Z",
          "iopub.status.idle": "2024-05-13T06:05:43.830281Z",
          "shell.execute_reply.started": "2024-05-13T06:05:43.817937Z",
          "shell.execute_reply": "2024-05-13T06:05:43.82865Z"
        },
        "trusted": true,
        "id": "usdDPQhUa0qy"
      },
      "execution_count": null,
      "outputs": []
    },
    {
      "cell_type": "code",
      "source": [
        "plt.figure(figsize=(12, 4))\n",
        "\n",
        "# Mean decrease in AUC of the class 1 vs the others.\n",
        "variable_importance_metric = \"NUM_AS_ROOT\"\n",
        "variable_importances = inspector.variable_importances()[variable_importance_metric]\n",
        "\n",
        "# Extract the feature name and importance values.\n",
        "#\n",
        "# `variable_importances` is a list of <feature, importance> tuples.\n",
        "feature_names = [vi[0].name for vi in variable_importances]\n",
        "feature_importances = [vi[1] for vi in variable_importances]\n",
        "# The feature are ordered in decreasing importance value.\n",
        "feature_ranks = range(len(feature_names))\n",
        "\n",
        "bar = plt.barh(feature_ranks, feature_importances, label=[str(x) for x in feature_ranks])\n",
        "plt.yticks(feature_ranks, feature_names)\n",
        "plt.gca().invert_yaxis()\n",
        "\n",
        "# TODO: Replace with \"plt.bar_label()\" when available.\n",
        "# Label each bar with values\n",
        "for importance, patch in zip(feature_importances, bar.patches):\n",
        "  plt.text(patch.get_x() + patch.get_width(), patch.get_y(), f\"{importance:.4f}\", va=\"top\")\n",
        "\n",
        "plt.xlabel(variable_importance_metric)\n",
        "plt.title(\"NUM AS ROOT of the class 1 vs the others\")\n",
        "plt.tight_layout()\n",
        "plt.show()"
      ],
      "metadata": {
        "execution": {
          "iopub.status.busy": "2024-05-13T06:06:40.961524Z",
          "iopub.execute_input": "2024-05-13T06:06:40.962005Z",
          "iopub.status.idle": "2024-05-13T06:06:41.376909Z",
          "shell.execute_reply.started": "2024-05-13T06:06:40.961974Z",
          "shell.execute_reply": "2024-05-13T06:06:41.375434Z"
        },
        "trusted": true,
        "id": "DY2HGWvMa0qz"
      },
      "execution_count": null,
      "outputs": []
    },
    {
      "cell_type": "code",
      "source": [
        "est_file_path = \"../input/house-prices-advanced-regression-techniques/test.csv\"\n",
        "test_data = pd.read_csv(test_file_path)\n",
        "ids = test_data.pop('Id')\n",
        "\n",
        "test_ds = tfdf.keras.pd_dataframe_to_tf_dataset(\n",
        "    test_data,\n",
        "    task = tfdf.keras.Task.REGRESSION)\n",
        "\n",
        "preds = rf.predict(test_ds)\n",
        "output = pd.DataFrame({'Id': ids,\n",
        "                       'SalePrice': preds.squeeze()})\n",
        "\n",
        "output.head()"
      ],
      "metadata": {
        "execution": {
          "iopub.status.busy": "2024-05-13T06:07:04.424169Z",
          "iopub.execute_input": "2024-05-13T06:07:04.424607Z",
          "iopub.status.idle": "2024-05-13T06:07:04.490522Z",
          "shell.execute_reply.started": "2024-05-13T06:07:04.424576Z",
          "shell.execute_reply": "2024-05-13T06:07:04.488877Z"
        },
        "trusted": true,
        "id": "9agp1CA9a0qz"
      },
      "execution_count": null,
      "outputs": []
    },
    {
      "cell_type": "code",
      "source": [
        "sample_submission_df = pd.read_csv('../input/house-prices-advanced-regression-techniques/sample_submission.csv')\n",
        "sample_submission_df['SalePrice'] = rf.predict(test_ds)\n",
        "sample_submission_df.to_csv('/kaggle/working/submission.csv', index=False)\n",
        "sample_submission_df.head()"
      ],
      "metadata": {
        "execution": {
          "iopub.status.busy": "2024-05-13T06:07:57.204732Z",
          "iopub.execute_input": "2024-05-13T06:07:57.205244Z",
          "iopub.status.idle": "2024-05-13T06:07:57.265921Z",
          "shell.execute_reply.started": "2024-05-13T06:07:57.205208Z",
          "shell.execute_reply": "2024-05-13T06:07:57.263948Z"
        },
        "trusted": true,
        "id": "H2PkGeo2a0qz"
      },
      "execution_count": null,
      "outputs": []
    }
  ]
}