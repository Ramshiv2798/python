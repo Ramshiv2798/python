{
  "metadata": {
    "kernelspec": {
      "language": "python",
      "display_name": "Python 3",
      "name": "python3"
    },
    "language_info": {
      "name": "python",
      "version": "3.10.13",
      "mimetype": "text/x-python",
      "codemirror_mode": {
        "name": "ipython",
        "version": 3
      },
      "pygments_lexer": "ipython3",
      "nbconvert_exporter": "python",
      "file_extension": ".py"
    },
    "kaggle": {
      "accelerator": "none",
      "dataSources": [
        {
          "sourceId": 8204,
          "sourceType": "datasetVersion",
          "datasetId": 4458
        }
      ],
      "dockerImageVersionId": 30698,
      "isInternetEnabled": true,
      "language": "python",
      "sourceType": "notebook",
      "isGpuEnabled": false
    },
    "colab": {
      "provenance": [],
      "include_colab_link": true
    }
  },
  "nbformat_minor": 0,
  "nbformat": 4,
  "cells": [
    {
      "cell_type": "markdown",
      "metadata": {
        "id": "view-in-github",
        "colab_type": "text"
      },
      "source": [
        "<a href=\"https://colab.research.google.com/github/Ramshiv2798/python/blob/main/Copy_of_Wine_Quality.ipynb\" target=\"_parent\"><img src=\"https://colab.research.google.com/assets/colab-badge.svg\" alt=\"Open In Colab\"/></a>"
      ]
    },
    {
      "source": [
        "# IMPORTANT: RUN THIS CELL IN ORDER TO IMPORT YOUR KAGGLE DATA SOURCES,\n",
        "# THEN FEEL FREE TO DELETE THIS CELL.\n",
        "# NOTE: THIS NOTEBOOK ENVIRONMENT DIFFERS FROM KAGGLE'S PYTHON\n",
        "# ENVIRONMENT SO THERE MAY BE MISSING LIBRARIES USED BY YOUR\n",
        "# NOTEBOOK.\n",
        "import kagglehub\n",
        "organizations_uciml_red_wine_quality_cortez_et_al_2009_path = kagglehub.dataset_download('organizations/uciml/red-wine-quality-cortez-et-al-2009')\n",
        "\n",
        "print('Data source import complete.')\n"
      ],
      "metadata": {
        "id": "c0Db93WBaYPa"
      },
      "cell_type": "code",
      "outputs": [],
      "execution_count": null
    },
    {
      "cell_type": "code",
      "source": [
        "import pandas as pd\n",
        "from sklearn.linear_model  import LinearRegression\n",
        "from sklearn.preprocessing import PolynomialFeatures\n",
        "from sklearn.linear_model  import Ridge, RidgeCV, Lasso, LassoCV\n",
        "from sklearn.metrics import r2_score, mean_squared_error\n",
        "from sklearn.dummy import DummyRegressor\n",
        "import matplotlib\n",
        "from sklearn.preprocessing import StandardScaler\n",
        "import matplotlib.pyplot as plt\n",
        "import numpy as np\n",
        "import statsmodels.api as sm\n",
        "\n",
        "\n",
        "\n",
        "import sys\n",
        "from sklearn import __version__ as sklearn_version\n",
        "\n",
        "versions = {\n",
        "    \"Python\": sys.version.split(\" \")[0],\n",
        "    \"Pandas\": pd.__version__,\n",
        "    \"scikit-learn\": sklearn_version,\n",
        "    \"Matplotlib\": matplotlib.__version__,\n",
        "    \"Numpy\": np.__version__,\n",
        "    \"Statsmodels\": sm.__version__\n",
        "}"
      ],
      "metadata": {
        "_uuid": "8f2839f25d086af736a60e9eeb907d3b93b6e0e5",
        "_cell_guid": "b1076dfc-b9ad-4769-8c92-a6c4dae69d19",
        "execution": {
          "iopub.status.busy": "2024-05-14T09:17:04.903701Z",
          "iopub.execute_input": "2024-05-14T09:17:04.904162Z",
          "iopub.status.idle": "2024-05-14T09:17:11.311758Z",
          "shell.execute_reply.started": "2024-05-14T09:17:04.904124Z",
          "shell.execute_reply": "2024-05-14T09:17:11.310632Z"
        },
        "trusted": true,
        "id": "AI2Fw9YlaYPg"
      },
      "execution_count": null,
      "outputs": []
    },
    {
      "cell_type": "code",
      "source": [
        "df = pd.read_csv('/kaggle/input/red-wine-quality-cortez-et-al-2009/winequality-red.csv')\n",
        "print(\"Number of rows:\", len(df))\n",
        "print(df.head(5))\n",
        "\n",
        "\n",
        "\n",
        "df_target   = df[['quality']]\n",
        "df_features = df.drop('quality', axis=1)\n",
        "\n",
        "print(\"\\n\")\n",
        "print(\"The compleate df has\", len(df),          \"cases and\", df.shape[1],          \"columns\")\n",
        "print(\"df_target has\",        len(df_target),   \"cases and\", df_target.shape[1],   \"column\")\n",
        "print(\"df_features has\",      len(df_features), \"cases and\", df_features.shape[1], \"columns\")"
      ],
      "metadata": {
        "execution": {
          "iopub.status.busy": "2024-05-14T09:19:08.360225Z",
          "iopub.execute_input": "2024-05-14T09:19:08.360634Z",
          "iopub.status.idle": "2024-05-14T09:19:08.389265Z",
          "shell.execute_reply.started": "2024-05-14T09:19:08.360602Z",
          "shell.execute_reply": "2024-05-14T09:19:08.388111Z"
        },
        "trusted": true,
        "id": "kvgy9Fe2aYPh"
      },
      "execution_count": null,
      "outputs": []
    },
    {
      "cell_type": "code",
      "source": [
        "df_feature_one = df_features[['alcohol']]\n",
        "\n",
        "\n",
        "print(\"Target quality \\n\", df_target.sort_index().head(5), \"\\n\")\n",
        "print(\"Feature alcohol \\n\", df_feature_one.sort_index().head(5))"
      ],
      "metadata": {
        "execution": {
          "iopub.status.busy": "2024-05-14T09:20:16.759976Z",
          "iopub.execute_input": "2024-05-14T09:20:16.760437Z",
          "iopub.status.idle": "2024-05-14T09:20:16.775273Z",
          "shell.execute_reply.started": "2024-05-14T09:20:16.760405Z",
          "shell.execute_reply": "2024-05-14T09:20:16.772857Z"
        },
        "trusted": true,
        "id": "oeGUsiVsaYPi"
      },
      "execution_count": null,
      "outputs": []
    },
    {
      "cell_type": "code",
      "source": [
        "regression1 = LinearRegression()\n",
        "\n",
        "\n",
        "model1 = regression1.fit(df_feature_one.sort_index(),\n",
        "                         df_target.sort_index())\n",
        "\n",
        "\n",
        "print(\"Intercept:\",     model1.intercept_[0].round(3))\n",
        "print(\"Coefficients :\", model1.coef_[0][0].round(3))"
      ],
      "metadata": {
        "execution": {
          "iopub.status.busy": "2024-05-14T09:20:53.007094Z",
          "iopub.execute_input": "2024-05-14T09:20:53.007516Z",
          "iopub.status.idle": "2024-05-14T09:20:53.035682Z",
          "shell.execute_reply.started": "2024-05-14T09:20:53.007482Z",
          "shell.execute_reply": "2024-05-14T09:20:53.034066Z"
        },
        "trusted": true,
        "id": "cRfIHlZGaYPj"
      },
      "execution_count": null,
      "outputs": []
    },
    {
      "cell_type": "code",
      "source": [
        "print(\"Value of alcohol feature for our first case :\", df_feature_one.iloc[0:1])"
      ],
      "metadata": {
        "execution": {
          "iopub.status.busy": "2024-05-14T09:21:19.132863Z",
          "iopub.execute_input": "2024-05-14T09:21:19.134021Z",
          "iopub.status.idle": "2024-05-14T09:21:19.141627Z",
          "shell.execute_reply.started": "2024-05-14T09:21:19.133983Z",
          "shell.execute_reply": "2024-05-14T09:21:19.140271Z"
        },
        "trusted": true,
        "id": "kDsdGKqKaYPj"
      },
      "execution_count": null,
      "outputs": []
    },
    {
      "cell_type": "code",
      "source": [
        "model1_y = pd.DataFrame(model1.predict(df_feature_one.sort_index()),\n",
        "                      index=df_feature_one.index,\n",
        "                      columns=['Simple Model'])\n",
        "\n",
        "print(\"Quality predicted value for the frst case:\", model1_y.sort_index().round(3).head(1))"
      ],
      "metadata": {
        "execution": {
          "iopub.status.busy": "2024-05-14T09:21:42.732297Z",
          "iopub.execute_input": "2024-05-14T09:21:42.733038Z",
          "iopub.status.idle": "2024-05-14T09:21:42.744873Z",
          "shell.execute_reply.started": "2024-05-14T09:21:42.733Z",
          "shell.execute_reply": "2024-05-14T09:21:42.743577Z"
        },
        "trusted": true,
        "id": "Ww1dWqxvaYPk"
      },
      "execution_count": null,
      "outputs": []
    },
    {
      "cell_type": "code",
      "source": [
        "plt.figure(figsize=(8, 6))\n",
        "plt.scatter(df_target.sort_index(),\n",
        "            model1_y.sort_index(),\n",
        "            color='lightskyblue',\n",
        "            edgecolor = \"black\",\n",
        "            label='Predicted vs Real',\n",
        "            alpha = 0.3)\n",
        "\n",
        "\n",
        "max_val = max(np.max(df_target), np.max(model1_y))\n",
        "plt.plot([0, max_val], [0, max_val],\n",
        "         color='red',\n",
        "         linestyle='--',\n",
        "         label='Perfect Prediction')\n",
        "\n",
        "plt.xticks(np.arange(0,10+1, 1))\n",
        "plt.yticks(np.arange(0,10+1, 1))\n",
        "plt.xlabel('Real \"Quality\"')\n",
        "plt.ylabel('Predicted \"Quality\"')\n",
        "plt.title('Predicted vs Real Values')\n",
        "plt.legend()\n",
        "plt.grid(color = \"gray\",\n",
        "         alpha = 0.3)\n",
        "plt.show()"
      ],
      "metadata": {
        "execution": {
          "iopub.status.busy": "2024-05-14T09:22:27.205327Z",
          "iopub.execute_input": "2024-05-14T09:22:27.20573Z",
          "iopub.status.idle": "2024-05-14T09:22:27.747291Z",
          "shell.execute_reply.started": "2024-05-14T09:22:27.2057Z",
          "shell.execute_reply": "2024-05-14T09:22:27.745916Z"
        },
        "trusted": true,
        "id": "LRgtRNXnaYPl"
      },
      "execution_count": null,
      "outputs": []
    },
    {
      "cell_type": "code",
      "source": [
        "regression2 = LinearRegression()\n",
        "\n",
        "\n",
        "model2 = regression2.fit(df_features.sort_index(),\n",
        "                         df_target.sort_index())\n",
        "\n",
        "\n",
        "print(\"Intercept :\",    model2.intercept_ [0].round(3))\n",
        "\n",
        "coefficient_dict = dict(zip(df_features.columns,\n",
        "                            model2.coef_[0]))\n",
        "print(\"Coefficients :\")\n",
        "for feature, coef in coefficient_dict.items():\n",
        "    print(f\"{feature}: {coef:.3f}\")"
      ],
      "metadata": {
        "execution": {
          "iopub.status.busy": "2024-05-14T09:23:05.088266Z",
          "iopub.execute_input": "2024-05-14T09:23:05.088678Z",
          "iopub.status.idle": "2024-05-14T09:23:05.118387Z",
          "shell.execute_reply.started": "2024-05-14T09:23:05.088647Z",
          "shell.execute_reply": "2024-05-14T09:23:05.117213Z"
        },
        "trusted": true,
        "id": "Nd0S8IUBaYPl"
      },
      "execution_count": null,
      "outputs": []
    },
    {
      "cell_type": "code",
      "source": [
        "print(\"Value of all features for our first case :\", df_features.iloc[0:1].transpose().round(3))"
      ],
      "metadata": {
        "execution": {
          "iopub.status.busy": "2024-05-14T09:26:00.948841Z",
          "iopub.execute_input": "2024-05-14T09:26:00.94931Z",
          "iopub.status.idle": "2024-05-14T09:26:00.959302Z",
          "shell.execute_reply.started": "2024-05-14T09:26:00.949276Z",
          "shell.execute_reply": "2024-05-14T09:26:00.958247Z"
        },
        "trusted": true,
        "id": "8Zr6eNfSaYPm"
      },
      "execution_count": null,
      "outputs": []
    },
    {
      "cell_type": "code",
      "source": [
        "model2_y = pd.DataFrame(model2.predict(df_features.sort_index()),\n",
        "                        index=df_features.index,\n",
        "                        columns=['Multiple Model'])\n",
        "\n",
        "print(\"Quality predicted value for the frst case:\", model2_y.sort_index().round(3).head(1))"
      ],
      "metadata": {
        "execution": {
          "iopub.status.busy": "2024-05-14T09:26:31.909506Z",
          "iopub.execute_input": "2024-05-14T09:26:31.909977Z",
          "iopub.status.idle": "2024-05-14T09:26:31.933114Z",
          "shell.execute_reply.started": "2024-05-14T09:26:31.909943Z",
          "shell.execute_reply": "2024-05-14T09:26:31.931108Z"
        },
        "trusted": true,
        "id": "lurro5CEaYPn"
      },
      "execution_count": null,
      "outputs": []
    },
    {
      "cell_type": "code",
      "source": [
        "plt.figure(figsize=(12, 6))\n",
        "\n",
        "\n",
        "\n",
        "plt.subplot(1, 2, 1)\n",
        "\n",
        "plt.scatter(df_target.sort_index(),\n",
        "            model1_y.sort_index(),\n",
        "            color='lightskyblue',\n",
        "            edgecolor = \"black\",\n",
        "            label='Predicted vs Real',\n",
        "            alpha = 0.3)\n",
        "\n",
        "\n",
        "max_val = max(np.max(df_target), np.max(model1_y))\n",
        "plt.plot([0, max_val], [0, max_val],\n",
        "         color='red',\n",
        "         linestyle='--',\n",
        "         label='Perfect Prediction')\n",
        "\n",
        "plt.xticks(np.arange(0,10+1, 1))\n",
        "plt.yticks(np.arange(0,10+1, 1))\n",
        "plt.xlabel('Real \"Quality\"')\n",
        "plt.ylabel('Predicted \"Quality\"')\n",
        "plt.title('Simple Regression: Predicted vs Real Values')\n",
        "plt.legend()\n",
        "plt.grid(color = \"gray\",\n",
        "         alpha = 0.3)\n",
        "\n",
        "\n",
        "\n",
        "\n",
        "plt.subplot(1, 2, 2)\n",
        "\n",
        "plt.scatter(df_target.sort_index(),\n",
        "                model2_y.sort_index(),\n",
        "                color='lightskyblue',\n",
        "                edgecolor = \"black\",\n",
        "                label='Predicted vs Real',\n",
        "                alpha = 0.3)\n",
        "\n",
        "\n",
        "max_val = max(np.max(df_target), np.max(model2_y))\n",
        "plt.plot([0, max_val], [0, max_val],\n",
        "         color='red',\n",
        "         linestyle='--',\n",
        "         label='Perfect Prediction')\n",
        "\n",
        "plt.xticks(np.arange(0,10+1, 1))\n",
        "plt.yticks(np.arange(0,10+1, 1))\n",
        "plt.xlabel('Real \"Quality\"')\n",
        "plt.ylabel('Predicted \"Quality\"')\n",
        "plt.title('Multiple Regression: Predicted vs Real Values')\n",
        "plt.legend()\n",
        "plt.grid(color = \"gray\",\n",
        "         alpha = 0.3)\n",
        "\n",
        "\n",
        "plt.show()"
      ],
      "metadata": {
        "execution": {
          "iopub.status.busy": "2024-05-14T09:34:14.590621Z",
          "iopub.execute_input": "2024-05-14T09:34:14.591023Z",
          "iopub.status.idle": "2024-05-14T09:34:15.276006Z",
          "shell.execute_reply.started": "2024-05-14T09:34:14.590993Z",
          "shell.execute_reply": "2024-05-14T09:34:15.274954Z"
        },
        "trusted": true,
        "id": "-0AjKY-BaYPn"
      },
      "execution_count": null,
      "outputs": []
    },
    {
      "cell_type": "code",
      "source": [
        "interaction = PolynomialFeatures(\n",
        "    degree=2,\n",
        "    include_bias=False,\n",
        "    interaction_only=True\n",
        "    )"
      ],
      "metadata": {
        "execution": {
          "iopub.status.busy": "2024-05-14T09:36:01.584844Z",
          "iopub.execute_input": "2024-05-14T09:36:01.585284Z",
          "iopub.status.idle": "2024-05-14T09:36:01.592153Z",
          "shell.execute_reply.started": "2024-05-14T09:36:01.585239Z",
          "shell.execute_reply": "2024-05-14T09:36:01.590106Z"
        },
        "trusted": true,
        "id": "HtEptznFaYPo"
      },
      "execution_count": null,
      "outputs": []
    },
    {
      "cell_type": "code",
      "source": [
        "features_interaction = interaction.fit_transform(df_features[['free sulfur dioxide', 'alcohol']])\n",
        "\n",
        "\n",
        "features_interaction = pd.DataFrame(features_interaction,\n",
        "                                      columns = interaction.get_feature_names_out(['free sulfur dioxide', 'alcohol']),\n",
        "                                      index=df_features.index\n",
        "                                   )\n",
        "print(features_interaction.sort_index().head(1))"
      ],
      "metadata": {
        "execution": {
          "iopub.status.busy": "2024-05-14T09:36:40.762489Z",
          "iopub.execute_input": "2024-05-14T09:36:40.763292Z",
          "iopub.status.idle": "2024-05-14T09:36:40.780057Z",
          "shell.execute_reply.started": "2024-05-14T09:36:40.763247Z",
          "shell.execute_reply": "2024-05-14T09:36:40.778436Z"
        },
        "trusted": true,
        "id": "US8x_STbaYPo"
      },
      "execution_count": null,
      "outputs": []
    },
    {
      "cell_type": "code",
      "source": [
        "interaction_column = features_interaction[['free sulfur dioxide alcohol']].sort_index()\n",
        "print(interaction_column.sort_index().head(5))"
      ],
      "metadata": {
        "execution": {
          "iopub.status.busy": "2024-05-14T09:37:32.955435Z",
          "iopub.execute_input": "2024-05-14T09:37:32.956473Z",
          "iopub.status.idle": "2024-05-14T09:37:32.966921Z",
          "shell.execute_reply.started": "2024-05-14T09:37:32.956429Z",
          "shell.execute_reply": "2024-05-14T09:37:32.965878Z"
        },
        "trusted": true,
        "id": "eh8GERSwaYPp"
      },
      "execution_count": null,
      "outputs": []
    },
    {
      "cell_type": "code",
      "source": [
        "df_features_interaction = df_features.join(interaction_column, how='outer')\n",
        "\n",
        "print(df_features_interaction.sort_index().head(5))"
      ],
      "metadata": {
        "execution": {
          "iopub.status.busy": "2024-05-14T09:38:13.012896Z",
          "iopub.execute_input": "2024-05-14T09:38:13.013879Z",
          "iopub.status.idle": "2024-05-14T09:38:13.033978Z",
          "shell.execute_reply.started": "2024-05-14T09:38:13.013841Z",
          "shell.execute_reply": "2024-05-14T09:38:13.032716Z"
        },
        "trusted": true,
        "id": "YBU0LKyXaYPp"
      },
      "execution_count": null,
      "outputs": []
    },
    {
      "cell_type": "code",
      "source": [
        "regression3 = LinearRegression()\n",
        "\n",
        "\n",
        "model3 = regression3.fit(df_features_interaction.sort_index(),\n",
        "                         df_target.sort_index())\n",
        "\n",
        "\n",
        "print(\"Intercept :\",    model3.intercept_[0].round(3))\n",
        "\n",
        "coefficient_dict = dict(zip(df_features_interaction.columns,\n",
        "                            model3.coef_[0]))\n",
        "print(\"Coefficients :\")\n",
        "for feature, coef in coefficient_dict.items():\n",
        "    print(f\"{feature}: {coef:.3f}\")"
      ],
      "metadata": {
        "execution": {
          "iopub.status.busy": "2024-05-14T09:39:11.240511Z",
          "iopub.execute_input": "2024-05-14T09:39:11.240959Z",
          "iopub.status.idle": "2024-05-14T09:39:11.258619Z",
          "shell.execute_reply.started": "2024-05-14T09:39:11.240922Z",
          "shell.execute_reply": "2024-05-14T09:39:11.257018Z"
        },
        "trusted": true,
        "id": "jwSWQZ5DaYPp"
      },
      "execution_count": null,
      "outputs": []
    },
    {
      "cell_type": "code",
      "source": [
        "print(\"Value of all features for our first case :\", df_features_interaction.iloc[0:1].transpose().round(3))"
      ],
      "metadata": {
        "execution": {
          "iopub.status.busy": "2024-05-14T09:39:34.810629Z",
          "iopub.execute_input": "2024-05-14T09:39:34.811324Z",
          "iopub.status.idle": "2024-05-14T09:39:34.821159Z",
          "shell.execute_reply.started": "2024-05-14T09:39:34.811278Z",
          "shell.execute_reply": "2024-05-14T09:39:34.819406Z"
        },
        "trusted": true,
        "id": "rYLgTAmxaYPp"
      },
      "execution_count": null,
      "outputs": []
    },
    {
      "cell_type": "code",
      "source": [
        "model3_y = pd.DataFrame(model3.predict(df_features_interaction.sort_index()),\n",
        "                        index=df_features_interaction.index,\n",
        "                        columns=['Interaction Model'])\n",
        "\n",
        "print(\"Quality predicted value for the frst case:\", model3_y.sort_index().round(3).head(1))"
      ],
      "metadata": {
        "execution": {
          "iopub.status.busy": "2024-05-14T09:42:11.376585Z",
          "iopub.execute_input": "2024-05-14T09:42:11.377009Z",
          "iopub.status.idle": "2024-05-14T09:42:11.392895Z",
          "shell.execute_reply.started": "2024-05-14T09:42:11.376977Z",
          "shell.execute_reply": "2024-05-14T09:42:11.391345Z"
        },
        "trusted": true,
        "id": "1riVxRDUaYPq"
      },
      "execution_count": null,
      "outputs": []
    },
    {
      "cell_type": "code",
      "source": [
        "plt.figure(figsize=(12, 6))\n",
        "\n",
        "\n",
        "\n",
        "plt.subplot(1, 2, 1)\n",
        "\n",
        "plt.scatter(df_target.sort_index(),\n",
        "            model2_y.sort_index(),\n",
        "            color='lightskyblue',\n",
        "            edgecolor = \"black\",\n",
        "            label='Predicted vs Real',\n",
        "            alpha = 0.3)\n",
        "\n",
        "\n",
        "max_val = max(np.max(df_target), np.max(model1_y))\n",
        "plt.plot([0, max_val], [0, max_val],\n",
        "         color='red',\n",
        "         linestyle='--',\n",
        "         label='Perfect Prediction')\n",
        "\n",
        "plt.xticks(np.arange(0,10+1, 1))\n",
        "plt.yticks(np.arange(0,10+1, 1))\n",
        "plt.xlabel('Real \"Quality\"')\n",
        "plt.ylabel('Predicted \"Quality\"')\n",
        "plt.title('Multiple Regression: Predicted vs Real Values')\n",
        "plt.legend()\n",
        "plt.grid(color = \"gray\",\n",
        "         alpha = 0.3)\n",
        "\n",
        "\n",
        "\n",
        "\n",
        "plt.subplot(1, 2, 2)\n",
        "\n",
        "plt.scatter(df_target.sort_index(),\n",
        "                model3_y.sort_index(),\n",
        "                color='lightskyblue',\n",
        "                edgecolor = \"black\",\n",
        "                label='Predicted vs Real',\n",
        "                alpha = 0.3)\n",
        "\n",
        "\n",
        "max_val = max(np.max(df_target), np.max(model3_y))\n",
        "plt.plot([0, max_val], [0, max_val],\n",
        "         color='red',\n",
        "         linestyle='--',\n",
        "         label='Perfect Prediction')\n",
        "\n",
        "plt.xticks(np.arange(0,10+1, 1))\n",
        "plt.yticks(np.arange(0,10+1, 1))\n",
        "plt.xlabel('Real \"Quality\"')\n",
        "plt.ylabel('Predicted \"Quality\"')\n",
        "plt.title('Multiple Regression with interaction term: Predicted vs Real Values')\n",
        "plt.legend()\n",
        "plt.grid(color = \"gray\",\n",
        "         alpha = 0.3)\n",
        "\n",
        "\n",
        "plt.show()\n"
      ],
      "metadata": {
        "execution": {
          "iopub.status.busy": "2024-05-14T09:52:16.191938Z",
          "iopub.execute_input": "2024-05-14T09:52:16.192352Z",
          "iopub.status.idle": "2024-05-14T09:52:16.941123Z",
          "shell.execute_reply.started": "2024-05-14T09:52:16.192322Z",
          "shell.execute_reply": "2024-05-14T09:52:16.939821Z"
        },
        "trusted": true,
        "id": "JsB2xFHLaYPq"
      },
      "execution_count": null,
      "outputs": []
    },
    {
      "cell_type": "markdown",
      "source": [],
      "metadata": {
        "id": "bLa_ycCQaYPq"
      }
    },
    {
      "cell_type": "code",
      "source": [
        "polynomial = PolynomialFeatures(\n",
        "    degree=2,\n",
        "    include_bias=False,\n",
        "    interaction_only=False\n",
        "    )"
      ],
      "metadata": {
        "execution": {
          "iopub.status.busy": "2024-05-14T09:54:49.76634Z",
          "iopub.execute_input": "2024-05-14T09:54:49.767603Z",
          "iopub.status.idle": "2024-05-14T09:54:49.772747Z",
          "shell.execute_reply.started": "2024-05-14T09:54:49.767562Z",
          "shell.execute_reply": "2024-05-14T09:54:49.771256Z"
        },
        "trusted": true,
        "id": "ksY5EmpOaYPt"
      },
      "execution_count": null,
      "outputs": []
    },
    {
      "cell_type": "code",
      "source": [
        "polynomial_features = polynomial.fit_transform(df_features[['sulphates']].sort_index())\n",
        "\n",
        "\n",
        "features_polynomial = pd.DataFrame(polynomial_features,\n",
        "                                   columns = polynomial.get_feature_names_out(),\n",
        "                                   index=df_features.index\n",
        "                                   )\n",
        "print(features_polynomial.sort_index().head(1))"
      ],
      "metadata": {
        "execution": {
          "iopub.status.busy": "2024-05-14T09:55:21.892646Z",
          "iopub.execute_input": "2024-05-14T09:55:21.893202Z",
          "iopub.status.idle": "2024-05-14T09:55:21.907651Z",
          "shell.execute_reply.started": "2024-05-14T09:55:21.893164Z",
          "shell.execute_reply": "2024-05-14T09:55:21.906354Z"
        },
        "trusted": true,
        "id": "cqP6b1mSaYPt"
      },
      "execution_count": null,
      "outputs": []
    },
    {
      "cell_type": "code",
      "source": [
        "polynomial_column = features_polynomial[['sulphates^2']].sort_index()\n",
        "\n",
        "\n",
        "df_features_polynomial = df_features.join(polynomial_column, how='outer')\n",
        "print(df_features_polynomial.sort_index().head(5))"
      ],
      "metadata": {
        "execution": {
          "iopub.status.busy": "2024-05-14T09:55:58.293934Z",
          "iopub.execute_input": "2024-05-14T09:55:58.294327Z",
          "iopub.status.idle": "2024-05-14T09:55:58.313763Z",
          "shell.execute_reply.started": "2024-05-14T09:55:58.294297Z",
          "shell.execute_reply": "2024-05-14T09:55:58.312527Z"
        },
        "trusted": true,
        "id": "vOvKAl3IaYPu"
      },
      "execution_count": null,
      "outputs": []
    },
    {
      "cell_type": "code",
      "source": [
        "regression4 = LinearRegression()\n",
        "\n",
        "\n",
        "model4 = regression4.fit(df_features_polynomial.sort_index(),\n",
        "                         df_target.sort_index())\n",
        "\n",
        "\n",
        "print(\"Intercept :\",    model4.intercept_[0].round(3))\n",
        "\n",
        "coefficient_dict = dict(zip(df_features_polynomial.columns,\n",
        "                            model4.coef_[0]))\n",
        "print(\"Coefficients :\")\n",
        "for feature, coef in coefficient_dict.items():\n",
        "    print(f\"{feature}: {coef:.3f}\")"
      ],
      "metadata": {
        "execution": {
          "iopub.status.busy": "2024-05-14T09:57:40.174443Z",
          "iopub.execute_input": "2024-05-14T09:57:40.174946Z",
          "iopub.status.idle": "2024-05-14T09:57:40.193161Z",
          "shell.execute_reply.started": "2024-05-14T09:57:40.174911Z",
          "shell.execute_reply": "2024-05-14T09:57:40.191172Z"
        },
        "trusted": true,
        "id": "CdNIZY1vaYPv"
      },
      "execution_count": null,
      "outputs": []
    },
    {
      "cell_type": "code",
      "source": [
        "print(\"Value of all features for our first case :\", df_features_polynomial.iloc[0:1].transpose().round(3))"
      ],
      "metadata": {
        "execution": {
          "iopub.status.busy": "2024-05-14T09:59:18.221908Z",
          "iopub.execute_input": "2024-05-14T09:59:18.222297Z",
          "iopub.status.idle": "2024-05-14T09:59:18.231825Z",
          "shell.execute_reply.started": "2024-05-14T09:59:18.222269Z",
          "shell.execute_reply": "2024-05-14T09:59:18.23045Z"
        },
        "trusted": true,
        "id": "gjwuP3GBaYPv"
      },
      "execution_count": null,
      "outputs": []
    },
    {
      "cell_type": "code",
      "source": [
        "model4_y = pd.DataFrame(model4.predict(df_features_polynomial.sort_index()),\n",
        "                      index=df_features_polynomial.index,\n",
        "                      columns=['Polinomyal Model'])\n",
        "\n",
        "print(\"Quality predicted value for the frst case:\", model4_y.sort_index().head(1))"
      ],
      "metadata": {
        "execution": {
          "iopub.status.busy": "2024-05-14T09:59:44.457537Z",
          "iopub.execute_input": "2024-05-14T09:59:44.458698Z",
          "iopub.status.idle": "2024-05-14T09:59:44.479054Z",
          "shell.execute_reply.started": "2024-05-14T09:59:44.458654Z",
          "shell.execute_reply": "2024-05-14T09:59:44.477335Z"
        },
        "trusted": true,
        "id": "_PpnFEEvaYPw"
      },
      "execution_count": null,
      "outputs": []
    },
    {
      "cell_type": "code",
      "source": [
        "plt.figure(figsize=(12, 6))\n",
        "\n",
        "\n",
        "\n",
        "plt.subplot(1, 2, 1)\n",
        "\n",
        "plt.scatter(df_target.sort_index(),\n",
        "            model2_y.sort_index(),\n",
        "            color='lightskyblue',\n",
        "            edgecolor = \"black\",\n",
        "            label='Predicted vs Real',\n",
        "            alpha = 0.3)\n",
        "\n",
        "\n",
        "max_val = max(np.max(df_target), np.max(model1_y))\n",
        "plt.plot([0, max_val], [0, max_val],\n",
        "         color='red',\n",
        "         linestyle='--',\n",
        "         label='Perfect Prediction')\n",
        "\n",
        "plt.xticks(np.arange(0,10+1, 1))\n",
        "plt.yticks(np.arange(0,10+1, 1))\n",
        "plt.xlabel('Real \"Quality\"')\n",
        "plt.ylabel('Predicted \"Quality\"')\n",
        "plt.title('Multiple Regression: Predicted vs Real Values')\n",
        "plt.legend()\n",
        "plt.grid(color = \"gray\",\n",
        "         alpha = 0.3)\n",
        "\n",
        "\n",
        "\n",
        "\n",
        "plt.subplot(1, 2, 2)\n",
        "\n",
        "plt.scatter(df_target.sort_index(),\n",
        "                model4_y.sort_index(),\n",
        "                color='lightskyblue',\n",
        "                edgecolor = \"black\",\n",
        "                label='Predicted vs Real',\n",
        "                alpha = 0.3)\n",
        "\n",
        "\n",
        "max_val = max(np.max(df_target), np.max(model4_y))\n",
        "plt.plot([0, max_val], [0, max_val],\n",
        "         color='red',\n",
        "         linestyle='--',\n",
        "         label='Perfect Prediction')\n",
        "\n",
        "plt.xticks(np.arange(0,10+1, 1))\n",
        "plt.yticks(np.arange(0,10+1, 1))\n",
        "plt.xlabel('Real \"Quality\"')\n",
        "plt.ylabel('Predicted \"Quality\"')\n",
        "plt.title('Multiple Regression with polynomical term: Predicted vs Real Values')\n",
        "plt.legend()\n",
        "plt.grid(color = \"gray\",\n",
        "         alpha = 0.3)\n",
        "\n",
        "\n",
        "plt.show()"
      ],
      "metadata": {
        "execution": {
          "iopub.status.busy": "2024-05-14T10:01:48.562653Z",
          "iopub.execute_input": "2024-05-14T10:01:48.563108Z",
          "iopub.status.idle": "2024-05-14T10:01:49.321787Z",
          "shell.execute_reply.started": "2024-05-14T10:01:48.563073Z",
          "shell.execute_reply": "2024-05-14T10:01:49.320433Z"
        },
        "trusted": true,
        "id": "etftz1NmaYPw"
      },
      "execution_count": null,
      "outputs": []
    },
    {
      "cell_type": "code",
      "source": [
        "ridge_parameters = RidgeCV(alphas=[0.001, 0.01, 0.1, 1, 10, 100])"
      ],
      "metadata": {
        "execution": {
          "iopub.status.busy": "2024-05-14T10:02:30.927115Z",
          "iopub.execute_input": "2024-05-14T10:02:30.92751Z",
          "iopub.status.idle": "2024-05-14T10:02:30.933999Z",
          "shell.execute_reply.started": "2024-05-14T10:02:30.92748Z",
          "shell.execute_reply": "2024-05-14T10:02:30.93264Z"
        },
        "trusted": true,
        "id": "EdEHHzyvaYPw"
      },
      "execution_count": null,
      "outputs": []
    },
    {
      "cell_type": "code",
      "source": [
        "model5 = ridge_parameters.fit(df_features.sort_index(),\n",
        "                              df_target.sort_index())\n",
        "\n",
        "\n",
        "print(\"Coefficients :\", model5.alpha_)\n",
        "print(\"Intercept :\", model5.intercept_ [0].round(3))\n",
        "\n",
        "coefficient_dict = dict(zip(df_features.columns,\n",
        "                            model5.coef_[0]))\n",
        "print(\"Coefficients :\")\n",
        "for feature, coef in coefficient_dict.items():\n",
        "    print(f\"{feature}: {coef:.3f}\")"
      ],
      "metadata": {
        "execution": {
          "iopub.status.busy": "2024-05-14T10:02:59.970751Z",
          "iopub.execute_input": "2024-05-14T10:02:59.971171Z",
          "iopub.status.idle": "2024-05-14T10:02:59.999944Z",
          "shell.execute_reply.started": "2024-05-14T10:02:59.971142Z",
          "shell.execute_reply": "2024-05-14T10:02:59.998307Z"
        },
        "trusted": true,
        "id": "T5afAK6baYPx"
      },
      "execution_count": null,
      "outputs": []
    },
    {
      "cell_type": "code",
      "source": [
        "print(\"Value of all features for our first case :\", df_features.sort_index().iloc[0:1].transpose().round(4))"
      ],
      "metadata": {
        "execution": {
          "iopub.status.busy": "2024-05-14T10:03:29.959818Z",
          "iopub.execute_input": "2024-05-14T10:03:29.960998Z",
          "iopub.status.idle": "2024-05-14T10:03:29.970013Z",
          "shell.execute_reply.started": "2024-05-14T10:03:29.960959Z",
          "shell.execute_reply": "2024-05-14T10:03:29.968659Z"
        },
        "trusted": true,
        "id": "bv7LtUa_aYPx"
      },
      "execution_count": null,
      "outputs": []
    },
    {
      "cell_type": "code",
      "source": [
        "model5_y = pd.DataFrame(model5.predict(df_features.sort_index()),\n",
        "                      index=df_features.index,\n",
        "                      columns=['Ridge Model'])\n",
        "\n",
        "print(\"Quality predicted value for the frst case:\", model5_y.sort_index().head(1))"
      ],
      "metadata": {
        "execution": {
          "iopub.status.busy": "2024-05-14T10:03:51.797009Z",
          "iopub.execute_input": "2024-05-14T10:03:51.797397Z",
          "iopub.status.idle": "2024-05-14T10:03:51.820696Z",
          "shell.execute_reply.started": "2024-05-14T10:03:51.797368Z",
          "shell.execute_reply": "2024-05-14T10:03:51.817396Z"
        },
        "trusted": true,
        "id": "_P5C4Aq5aYPx"
      },
      "execution_count": null,
      "outputs": []
    },
    {
      "cell_type": "code",
      "source": [
        "lasso_parameters = LassoCV(alphas=[0.001, 0.01, 0.1, 1, 10, 100])\n",
        "\n",
        "\n",
        "model6 = lasso_parameters.fit(df_features.sort_index(),\n",
        "                              df_target.sort_index().values.ravel())\n",
        "\n",
        "print(\"Alpha :\", model6.alpha_)\n",
        "print(\"Intercept :\", model6.intercept_.round(3))\n",
        "\n",
        "coefficient_dict = dict(zip(df_features.columns,\n",
        "                            model6.coef_))\n",
        "print(\"Coefficients :\")\n",
        "for feature, coef in coefficient_dict.items():\n",
        "    print(f\"{feature}: {coef:.3f}\")"
      ],
      "metadata": {
        "execution": {
          "iopub.status.busy": "2024-05-14T10:04:41.127184Z",
          "iopub.execute_input": "2024-05-14T10:04:41.127607Z",
          "iopub.status.idle": "2024-05-14T10:04:41.190611Z",
          "shell.execute_reply.started": "2024-05-14T10:04:41.127577Z",
          "shell.execute_reply": "2024-05-14T10:04:41.188482Z"
        },
        "trusted": true,
        "id": "GaQmulj_aYPy"
      },
      "execution_count": null,
      "outputs": []
    },
    {
      "cell_type": "code",
      "source": [
        "print(\"Value of all features for our first case :\", df_features.sort_index().iloc[0:1].transpose().round(3))"
      ],
      "metadata": {
        "execution": {
          "iopub.status.busy": "2024-05-14T10:05:02.289905Z",
          "iopub.execute_input": "2024-05-14T10:05:02.290284Z",
          "iopub.status.idle": "2024-05-14T10:05:02.300031Z",
          "shell.execute_reply.started": "2024-05-14T10:05:02.290256Z",
          "shell.execute_reply": "2024-05-14T10:05:02.298749Z"
        },
        "trusted": true,
        "id": "w4sZpH5eaYPy"
      },
      "execution_count": null,
      "outputs": []
    },
    {
      "cell_type": "code",
      "source": [
        "model6_y = pd.DataFrame(model6.predict(df_features.sort_index()),\n",
        "                        index=df_features.index,\n",
        "                        columns=['Lasso Model'])\n",
        "\n",
        "print(\"Quality predicted value for the frst case:\", model6_y.sort_index().round(3).head(1))"
      ],
      "metadata": {
        "execution": {
          "iopub.status.busy": "2024-05-14T10:05:31.824123Z",
          "iopub.execute_input": "2024-05-14T10:05:31.824548Z",
          "iopub.status.idle": "2024-05-14T10:05:31.840939Z",
          "shell.execute_reply.started": "2024-05-14T10:05:31.824514Z",
          "shell.execute_reply": "2024-05-14T10:05:31.838376Z"
        },
        "trusted": true,
        "id": "KQUtRX9ZaYPy"
      },
      "execution_count": null,
      "outputs": []
    },
    {
      "cell_type": "code",
      "source": [
        "plt.figure(figsize=(10, 4))\n",
        "\n",
        "\n",
        "\n",
        "plt.subplot(1, 3, 1)\n",
        "\n",
        "plt.scatter(df_target.sort_index(),\n",
        "            model2_y.sort_index(),\n",
        "            color='lightskyblue',\n",
        "            edgecolor = \"black\",\n",
        "            label='Predicted vs Real',\n",
        "            alpha = 0.3)\n",
        "\n",
        "\n",
        "max_val = max(np.max(df_target), np.max(model1_y))\n",
        "plt.plot([0, max_val], [0, max_val],\n",
        "         color='red',\n",
        "         linestyle='--',\n",
        "         label='Perfect Prediction')\n",
        "\n",
        "plt.xticks(np.arange(0,10+1, 1))\n",
        "plt.yticks(np.arange(0,10+1, 1))\n",
        "plt.xlabel('Real \"Quality\"')\n",
        "plt.ylabel('Predicted \"Quality\"')\n",
        "plt.title('Multiple Regression: \\nPredicted vs Real Values', fontsize=10)\n",
        "plt.legend()\n",
        "plt.grid(color = \"gray\",\n",
        "         alpha = 0.3)\n",
        "\n",
        "\n",
        "\n",
        "plt.subplot(1, 3, 2)\n",
        "\n",
        "plt.scatter(df_target.sort_index(),\n",
        "                model5_y.sort_index(),\n",
        "                color='lightskyblue',\n",
        "                edgecolor = \"black\",\n",
        "                label='Predicted vs Real',\n",
        "                alpha = 0.3)\n",
        "\n",
        "\n",
        "max_val = max(np.max(df_target), np.max(model5_y))\n",
        "plt.plot([0, max_val], [0, max_val],\n",
        "         color='red',\n",
        "         linestyle='--',\n",
        "         label='Perfect Prediction')\n",
        "\n",
        "plt.xticks(np.arange(0,10+1, 1))\n",
        "plt.yticks(np.arange(0,10+1, 1))\n",
        "plt.xlabel('Real \"Quality\"')\n",
        "plt.ylabel('Predicted \"Quality\"')\n",
        "plt.title('Ridge Regression: \\nPredicted vs Real Values', fontsize=10)\n",
        "plt.legend()\n",
        "plt.grid(color = \"gray\",\n",
        "         alpha = 0.3)\n",
        "\n",
        "\n",
        "plt.subplot(1, 3, 3)\n",
        "\n",
        "plt.scatter(df_target.sort_index(),\n",
        "                model6_y.sort_index(),\n",
        "                color='lightskyblue',\n",
        "                edgecolor = \"black\",\n",
        "                label='Predicted vs Real',\n",
        "                alpha = 0.3)\n",
        "\n",
        "\n",
        "max_val = max(np.max(df_target), np.max(model6_y))\n",
        "plt.plot([0, max_val], [0, max_val],\n",
        "         color='red',\n",
        "         linestyle='--',\n",
        "         label='Perfect Prediction')\n",
        "\n",
        "plt.xticks(np.arange(0,10+1, 1))\n",
        "plt.yticks(np.arange(0,10+1, 1))\n",
        "plt.xlabel('Real \"Quality\"')\n",
        "plt.ylabel('Predicted \"Quality\"')\n",
        "plt.title('Lasso Regression: \\nPredicted vs Real Values', fontsize=10)\n",
        "plt.legend()\n",
        "plt.grid(color = \"gray\",\n",
        "         alpha = 0.3)\n",
        "\n",
        "plt.show()"
      ],
      "metadata": {
        "execution": {
          "iopub.status.busy": "2024-05-14T10:08:11.272339Z",
          "iopub.execute_input": "2024-05-14T10:08:11.272752Z",
          "iopub.status.idle": "2024-05-14T10:08:12.276067Z",
          "shell.execute_reply.started": "2024-05-14T10:08:11.27272Z",
          "shell.execute_reply": "2024-05-14T10:08:12.274885Z"
        },
        "trusted": true,
        "id": "XGqDyuALaYPz"
      },
      "execution_count": null,
      "outputs": []
    },
    {
      "cell_type": "code",
      "source": [
        "df_target = df_target.sort_index()\n",
        "model1_y = model1_y.sort_index()\n",
        "model2_y = model2_y.sort_index()\n",
        "model3_y = model3_y.sort_index()\n",
        "model4_y = model4_y.sort_index()\n",
        "model5_y = model5_y.sort_index()\n",
        "model6_y = model6_y.sort_index()\n",
        "\n",
        "\n",
        "assert df_target.index.equals(model1_y.index), \"Indices do not match\"\n",
        "assert df_target.index.equals(model2_y.index), \"Indices do not match\"\n",
        "assert df_target.index.equals(model3_y.index), \"Indices do not match\"\n",
        "assert df_target.index.equals(model4_y.index), \"Indices do not match\"\n",
        "assert df_target.index.equals(model5_y.index), \"Indices do not match\"\n",
        "assert df_target.index.equals(model6_y.index), \"Indices do not match\"\n",
        "print(\"Indices match successfully!\")\n",
        "\n",
        "predictions = pd.DataFrame({\n",
        "    'Actual Target': np.squeeze(df_target), # Real values\n",
        "    'Simple Model': np.squeeze(model1_y),\n",
        "    'Multiple Model': np.squeeze(model2_y),\n",
        "    'Interaction Model': np.squeeze(model3_y),\n",
        "    'Polynomial Model': np.squeeze(model4_y),\n",
        "    'Ridge Model': np.squeeze(model5_y),\n",
        "    'Lasso Model': np.squeeze(model6_y),\n",
        "})\n",
        "\n",
        "print(predictions.head())"
      ],
      "metadata": {
        "execution": {
          "iopub.status.busy": "2024-05-14T10:08:50.743028Z",
          "iopub.execute_input": "2024-05-14T10:08:50.743436Z",
          "iopub.status.idle": "2024-05-14T10:08:50.762622Z",
          "shell.execute_reply.started": "2024-05-14T10:08:50.743404Z",
          "shell.execute_reply": "2024-05-14T10:08:50.761438Z"
        },
        "trusted": true,
        "id": "0fc4boGNaYPz"
      },
      "execution_count": null,
      "outputs": []
    },
    {
      "cell_type": "code",
      "source": [
        "r2_scores = {}\n",
        "r2_scores['Simple Model'] = r2_score(predictions['Actual Target'], predictions['Simple Model'])\n",
        "r2_scores['Multiple Model'] = r2_score(predictions['Actual Target'], predictions['Multiple Model'])\n",
        "r2_scores['Interaction Model'] = r2_score(predictions['Actual Target'], predictions['Interaction Model'])\n",
        "r2_scores['Polynomial Model'] = r2_score(predictions['Actual Target'], predictions['Polynomial Model'])\n",
        "r2_scores['Ridge Model'] = r2_score(predictions['Actual Target'], predictions['Ridge Model'])\n",
        "r2_scores['Lasso Model'] = r2_score(predictions['Actual Target'], predictions['Lasso Model'])\n",
        "\n",
        "\n",
        "for model, score in r2_scores.items():\n",
        "    print(f\"R2 score for {model}: {score:.4f}\")"
      ],
      "metadata": {
        "execution": {
          "iopub.status.busy": "2024-05-14T10:09:08.942767Z",
          "iopub.execute_input": "2024-05-14T10:09:08.943184Z",
          "iopub.status.idle": "2024-05-14T10:09:08.960583Z",
          "shell.execute_reply.started": "2024-05-14T10:09:08.943154Z",
          "shell.execute_reply": "2024-05-14T10:09:08.95911Z"
        },
        "trusted": true,
        "id": "2qKD7i-6aYP0"
      },
      "execution_count": null,
      "outputs": []
    },
    {
      "cell_type": "code",
      "source": [
        "regression0 = DummyRegressor(strategy='mean')\n",
        "\n",
        "\n",
        "model0 = regression0.fit(df_features.sort_index(),\n",
        "                         df_target.sort_index())\n",
        "\n",
        "\n",
        "model0_y = model0.predict(df_features.sort_index())\n",
        "print(\"Quality predicted value (same for all cases):\", model0_y[0].round(3))"
      ],
      "metadata": {
        "execution": {
          "iopub.status.busy": "2024-05-14T10:09:46.045958Z",
          "iopub.execute_input": "2024-05-14T10:09:46.046998Z",
          "iopub.status.idle": "2024-05-14T10:09:46.057815Z",
          "shell.execute_reply.started": "2024-05-14T10:09:46.046946Z",
          "shell.execute_reply": "2024-05-14T10:09:46.056485Z"
        },
        "trusted": true,
        "id": "utxvFBlgaYP0"
      },
      "execution_count": null,
      "outputs": []
    },
    {
      "cell_type": "code",
      "source": [
        "r2_null_model = r2_score(df_target,\n",
        "                         model0_y)\n",
        "print(\"R² of null model:\", r2_null_model)"
      ],
      "metadata": {
        "execution": {
          "iopub.status.busy": "2024-05-14T10:10:02.90518Z",
          "iopub.execute_input": "2024-05-14T10:10:02.90562Z",
          "iopub.status.idle": "2024-05-14T10:10:02.915629Z",
          "shell.execute_reply.started": "2024-05-14T10:10:02.905589Z",
          "shell.execute_reply": "2024-05-14T10:10:02.914246Z"
        },
        "trusted": true,
        "id": "PJQW-7jgaYP6"
      },
      "execution_count": null,
      "outputs": []
    },
    {
      "cell_type": "code",
      "source": [
        "df_r2_scores = pd.DataFrame(list(r2_scores.items()),\n",
        "                            columns=['Model', 'R-squared'])\n",
        "\n",
        "\n",
        "null_model_row = pd.DataFrame({'Model': ['Null Model'],\n",
        "                               'R-squared': [r2_null_model]})\n",
        "df_r2_scores = pd.concat([null_model_row,\n",
        "                         df_r2_scores],\n",
        "                         ignore_index=True)\n",
        "\n",
        "print(df_r2_scores)"
      ],
      "metadata": {
        "execution": {
          "iopub.status.busy": "2024-05-14T10:14:31.583042Z",
          "iopub.execute_input": "2024-05-14T10:14:31.583448Z",
          "iopub.status.idle": "2024-05-14T10:14:31.595176Z",
          "shell.execute_reply.started": "2024-05-14T10:14:31.583416Z",
          "shell.execute_reply": "2024-05-14T10:14:31.593857Z"
        },
        "trusted": true,
        "id": "bKz6JlXVaYP7"
      },
      "execution_count": null,
      "outputs": []
    },
    {
      "cell_type": "code",
      "source": [
        "plt.figure(figsize=(12, 6))\n",
        "\n",
        "\n",
        "\n",
        "plt.subplot(1, 2, 1)\n",
        "\n",
        "plt.scatter(df_target.sort_index(),\n",
        "            model0_y,\n",
        "            color='lightskyblue',\n",
        "            edgecolor = \"black\",\n",
        "            label='Predicted vs Real',\n",
        "            alpha = 0.3)\n",
        "\n",
        "\n",
        "max_val = max(np.max(df_target), np.max(model0_y))\n",
        "plt.plot([0, max_val], [0, max_val],\n",
        "         color='red',\n",
        "         linestyle='--',\n",
        "         label='Perfect Prediction')\n",
        "\n",
        "plt.xticks(np.arange(0,10+1, 1))\n",
        "plt.yticks(np.arange(0,10+1, 1))\n",
        "plt.xlabel('Real \"Quality\"')\n",
        "plt.ylabel('Predicted \"Quality\"')\n",
        "plt.title('Null model: Predicted vs Real Values')\n",
        "plt.legend()\n",
        "plt.grid(color = \"gray\",\n",
        "         alpha = 0.3)\n",
        "\n",
        "\n",
        "\n",
        "\n",
        "plt.subplot(1, 2, 2)\n",
        "\n",
        "plt.scatter(df_target.sort_index(),\n",
        "                model2_y.sort_index(),\n",
        "                color='lightskyblue',\n",
        "                edgecolor = \"black\",\n",
        "                label='Predicted vs Real',\n",
        "                alpha = 0.3)\n",
        "\n",
        "\n",
        "max_val = max(np.max(df_target), np.max(model2_y))\n",
        "plt.plot([0, max_val], [0, max_val],\n",
        "         color='red',\n",
        "         linestyle='--',\n",
        "         label='Perfect Prediction')\n",
        "\n",
        "plt.xticks(np.arange(0,10+1, 1))\n",
        "plt.yticks(np.arange(0,10+1, 1))\n",
        "plt.xlabel('Real \"Quality\"')\n",
        "plt.ylabel('Predicted \"Quality\"')\n",
        "plt.title('Full model (Multiple Regression): Predicted vs Real Values')\n",
        "plt.legend()\n",
        "plt.grid(color = \"gray\",\n",
        "         alpha = 0.3)\n",
        "\n",
        "\n",
        "plt.show()"
      ],
      "metadata": {
        "execution": {
          "iopub.status.busy": "2024-05-14T10:18:15.511479Z",
          "iopub.execute_input": "2024-05-14T10:18:15.511884Z",
          "iopub.status.idle": "2024-05-14T10:18:16.277537Z",
          "shell.execute_reply.started": "2024-05-14T10:18:15.511856Z",
          "shell.execute_reply": "2024-05-14T10:18:16.27588Z"
        },
        "trusted": true,
        "id": "0tsU0nWLaYP7"
      },
      "execution_count": null,
      "outputs": []
    },
    {
      "cell_type": "code",
      "source": [
        "null_features   = sm.add_constant(pd.DataFrame(index=df_features.index)).sort_index()\n",
        "full_features   = sm.add_constant(df_features).sort_index()\n",
        "\n",
        "\n",
        "print(\"Null features:\\n\", null_features.head(1),\n",
        "      \"\\nMultiple Regression features:\\n\", full_features.tail(1))"
      ],
      "metadata": {
        "execution": {
          "iopub.status.busy": "2024-05-14T10:18:43.864589Z",
          "iopub.execute_input": "2024-05-14T10:18:43.865009Z",
          "iopub.status.idle": "2024-05-14T10:18:43.888659Z",
          "shell.execute_reply.started": "2024-05-14T10:18:43.864977Z",
          "shell.execute_reply": "2024-05-14T10:18:43.887367Z"
        },
        "trusted": true,
        "id": "DaByWjQUaYP8"
      },
      "execution_count": null,
      "outputs": []
    },
    {
      "cell_type": "code",
      "source": [
        "model_null = sm.OLS(df_target.sort_index(),\n",
        "                    null_features.sort_index()).fit()\n",
        "model_full = sm.OLS(df_target.sort_index(),\n",
        "                    full_features.sort_index()).fit()\n",
        "\n",
        "\n",
        "print(\"Null Model Summary:\")\n",
        "print(model_null.summary())\n",
        "print(\"\\nFull Model Summary:\")\n",
        "print(model_full.summary())"
      ],
      "metadata": {
        "execution": {
          "iopub.status.busy": "2024-05-14T10:19:09.721077Z",
          "iopub.execute_input": "2024-05-14T10:19:09.721474Z",
          "iopub.status.idle": "2024-05-14T10:19:09.813358Z",
          "shell.execute_reply.started": "2024-05-14T10:19:09.721435Z",
          "shell.execute_reply": "2024-05-14T10:19:09.811369Z"
        },
        "trusted": true,
        "id": "88sR2bAYaYP8"
      },
      "execution_count": null,
      "outputs": []
    },
    {
      "cell_type": "code",
      "source": [
        "f_test = model_full.compare_f_test(model_null)\n",
        "print(\"\\nF-test result:\", f_test)"
      ],
      "metadata": {
        "execution": {
          "iopub.status.busy": "2024-05-14T10:19:34.358999Z",
          "iopub.execute_input": "2024-05-14T10:19:34.360369Z",
          "iopub.status.idle": "2024-05-14T10:19:34.367305Z",
          "shell.execute_reply.started": "2024-05-14T10:19:34.360326Z",
          "shell.execute_reply": "2024-05-14T10:19:34.365937Z"
        },
        "trusted": true,
        "id": "BH6sc5qdaYP8"
      },
      "execution_count": null,
      "outputs": []
    },
    {
      "cell_type": "code",
      "source": [
        "print(\"Null model AIC:\", round(model_null.aic, 3), \"Full model AIC:\", round(model_full.aic, 3))\n",
        "print(\"Null model BIC:\", round(model_null.bic, 3), \"Full model BIC:\", round(model_full.bic, 3))"
      ],
      "metadata": {
        "execution": {
          "iopub.status.busy": "2024-05-14T10:19:53.545386Z",
          "iopub.execute_input": "2024-05-14T10:19:53.545826Z",
          "iopub.status.idle": "2024-05-14T10:19:53.552987Z",
          "shell.execute_reply.started": "2024-05-14T10:19:53.545777Z",
          "shell.execute_reply": "2024-05-14T10:19:53.551749Z"
        },
        "trusted": true,
        "id": "FKVkIDEVaYP9"
      },
      "execution_count": null,
      "outputs": []
    },
    {
      "cell_type": "code",
      "source": [
        "delta_aic = model_null.aic - model_full.aic\n",
        "delta_bic = model_null.bic - model_full.bic\n",
        "\n",
        "print(\"Delta AIC:\", round(delta_aic), \"\\nDelta BIC:\", round(delta_bic))"
      ],
      "metadata": {
        "execution": {
          "iopub.status.busy": "2024-05-14T10:20:16.430257Z",
          "iopub.execute_input": "2024-05-14T10:20:16.430706Z",
          "iopub.status.idle": "2024-05-14T10:20:16.437093Z",
          "shell.execute_reply.started": "2024-05-14T10:20:16.430671Z",
          "shell.execute_reply": "2024-05-14T10:20:16.436016Z"
        },
        "trusted": true,
        "id": "7Px9goxhaYP9"
      },
      "execution_count": null,
      "outputs": []
    },
    {
      "cell_type": "code",
      "source": [
        "print(\"Intercept :\",    model2.intercept_ [0].round(3))\n",
        "\n",
        "coefficient_dict = dict(zip(df_features.columns,\n",
        "                            model2.coef_[0]))\n",
        "print(\"Coefficients :\")\n",
        "for feature, coef in coefficient_dict.items():\n",
        "    print(f\"{feature}: {coef:.3f}\")"
      ],
      "metadata": {
        "execution": {
          "iopub.status.busy": "2024-05-14T10:20:52.394729Z",
          "iopub.execute_input": "2024-05-14T10:20:52.395138Z",
          "iopub.status.idle": "2024-05-14T10:20:52.403315Z",
          "shell.execute_reply.started": "2024-05-14T10:20:52.395106Z",
          "shell.execute_reply": "2024-05-14T10:20:52.401914Z"
        },
        "trusted": true,
        "id": "GcQn_Uq7aYP9"
      },
      "execution_count": null,
      "outputs": []
    },
    {
      "cell_type": "code",
      "source": [
        "print(model_full.summary())"
      ],
      "metadata": {
        "execution": {
          "iopub.status.busy": "2024-05-14T10:21:14.115688Z",
          "iopub.execute_input": "2024-05-14T10:21:14.116356Z",
          "iopub.status.idle": "2024-05-14T10:21:14.138572Z",
          "shell.execute_reply.started": "2024-05-14T10:21:14.116321Z",
          "shell.execute_reply": "2024-05-14T10:21:14.137331Z"
        },
        "trusted": true,
        "id": "JAmnq7fMaYP-"
      },
      "execution_count": null,
      "outputs": []
    },
    {
      "cell_type": "code",
      "source": [
        "scaler_features = StandardScaler()\n",
        "scaler_target = StandardScaler()\n",
        "\n",
        "df_features_stand = scaler_features.fit_transform(df_features)\n",
        "df_target_stand = scaler_target.fit_transform(df_target)\n",
        "\n",
        "print(\"Features standarized: \\n\", df_features_stand[0][0:])\n",
        "print(\"Target standarize: \\n\", df_target_stand[0][0:3])"
      ],
      "metadata": {
        "execution": {
          "iopub.status.busy": "2024-05-14T10:21:40.246477Z",
          "iopub.execute_input": "2024-05-14T10:21:40.246922Z",
          "iopub.status.idle": "2024-05-14T10:21:40.262415Z",
          "shell.execute_reply.started": "2024-05-14T10:21:40.246888Z",
          "shell.execute_reply": "2024-05-14T10:21:40.261346Z"
        },
        "trusted": true,
        "id": "48acbT5paYP_"
      },
      "execution_count": null,
      "outputs": []
    },
    {
      "cell_type": "code",
      "source": [
        "df_target_stand = pd.DataFrame(df_target_stand,\n",
        "                               index=df_target.index,\n",
        "                               columns=df_target.columns).sort_index()\n",
        "\n",
        "df_features_stand = pd.DataFrame(df_features_stand,\n",
        "                                       index=df_features.index,\n",
        "                                       columns=df_features.columns).sort_index()\n",
        "\n",
        "\n",
        "\n",
        "print(df_features_stand.head(3))"
      ],
      "metadata": {
        "execution": {
          "iopub.status.busy": "2024-05-14T10:22:15.212148Z",
          "iopub.execute_input": "2024-05-14T10:22:15.212545Z",
          "iopub.status.idle": "2024-05-14T10:22:15.226006Z",
          "shell.execute_reply.started": "2024-05-14T10:22:15.212515Z",
          "shell.execute_reply": "2024-05-14T10:22:15.224788Z"
        },
        "trusted": true,
        "id": "gqW1hWqsaYQA"
      },
      "execution_count": null,
      "outputs": []
    },
    {
      "cell_type": "code",
      "source": [
        "regression_stand = LinearRegression()\n",
        "\n",
        "\n",
        "model7 = regression_stand.fit(df_features_stand.sort_index(),\n",
        "                              df_target_stand.sort_index())\n",
        "\n",
        "\n",
        "print(\"Intercept :\",    model7.intercept_ [0].round(3))\n",
        "\n",
        "coefficient_dict = dict(zip(df_features_stand.columns,\n",
        "                            model7.coef_[0]))\n",
        "print(\"Coefficients :\")\n",
        "for feature, coef in coefficient_dict.items():\n",
        "    print(f\"{feature}: {coef:.3f}\")"
      ],
      "metadata": {
        "execution": {
          "iopub.status.busy": "2024-05-14T10:22:47.434443Z",
          "iopub.execute_input": "2024-05-14T10:22:47.434848Z",
          "iopub.status.idle": "2024-05-14T10:22:47.457836Z",
          "shell.execute_reply.started": "2024-05-14T10:22:47.434817Z",
          "shell.execute_reply": "2024-05-14T10:22:47.456153Z"
        },
        "trusted": true,
        "id": "UkF12N4vaYQA"
      },
      "execution_count": null,
      "outputs": []
    },
    {
      "cell_type": "code",
      "source": [
        "print(\"Value of all features for our first case :\", df_features_stand.sort_index().iloc[0:1].transpose().round(3))"
      ],
      "metadata": {
        "execution": {
          "iopub.status.busy": "2024-05-14T10:23:12.830307Z",
          "iopub.execute_input": "2024-05-14T10:23:12.831185Z",
          "iopub.status.idle": "2024-05-14T10:23:12.840374Z",
          "shell.execute_reply.started": "2024-05-14T10:23:12.831145Z",
          "shell.execute_reply": "2024-05-14T10:23:12.839187Z"
        },
        "trusted": true,
        "id": "u35cOSfFaYQB"
      },
      "execution_count": null,
      "outputs": []
    },
    {
      "cell_type": "code",
      "source": [
        "model7_y_stand = pd.DataFrame(model7.predict(df_features_stand),\n",
        "                        index=df_features_stand.index,\n",
        "                        columns=['Standarized model'])\n",
        "\n",
        "print(\"Quality predicted value for the first case:\", model7_y_stand.sort_index().round(3).head(1))"
      ],
      "metadata": {
        "execution": {
          "iopub.status.busy": "2024-05-14T10:23:30.392203Z",
          "iopub.execute_input": "2024-05-14T10:23:30.393034Z",
          "iopub.status.idle": "2024-05-14T10:23:30.407646Z",
          "shell.execute_reply.started": "2024-05-14T10:23:30.392997Z",
          "shell.execute_reply": "2024-05-14T10:23:30.406335Z"
        },
        "trusted": true,
        "id": "djlvmCkaaYQB"
      },
      "execution_count": null,
      "outputs": []
    },
    {
      "cell_type": "code",
      "source": [
        "df_target_des_stand = scaler_target.inverse_transform(model7_y_stand)\n",
        "\n",
        "df_target_des_stand = pd.DataFrame(df_target_des_stand,\n",
        "                                     index=df_target_stand.index,\n",
        "                                     columns=['Original Scale Prediction'])\n",
        "\n",
        "print(\"Quality predicted value for the first case (Multiple Linear Regression):\", model2_y.sort_index().round(3).head(1))\n",
        "print(\"Quality predicted value for the first case (After de-standardizing ):\", df_target_des_stand.sort_index().round(3).head(1))"
      ],
      "metadata": {
        "execution": {
          "iopub.status.busy": "2024-05-14T10:23:47.840596Z",
          "iopub.execute_input": "2024-05-14T10:23:47.841007Z",
          "iopub.status.idle": "2024-05-14T10:23:47.854357Z",
          "shell.execute_reply.started": "2024-05-14T10:23:47.840975Z",
          "shell.execute_reply": "2024-05-14T10:23:47.85322Z"
        },
        "trusted": true,
        "id": "0ygcejJYaYQC"
      },
      "execution_count": null,
      "outputs": []
    },
    {
      "cell_type": "code",
      "source": [
        "plt.figure(figsize=(12, 6))\n",
        "\n",
        "\n",
        "\n",
        "plt.subplot(1, 2, 1)\n",
        "\n",
        "plt.scatter(df_target.sort_index(),\n",
        "            model2_y.sort_index(),\n",
        "            color='lightskyblue',\n",
        "            edgecolor = \"black\",\n",
        "            label='Predicted vs Real',\n",
        "            alpha = 0.3)\n",
        "\n",
        "\n",
        "max_val = max(np.max(df_target), np.max(model2_y))\n",
        "plt.plot([0, max_val], [0, max_val],\n",
        "         color='red',\n",
        "         linestyle='--',\n",
        "         label='Perfect Prediction')\n",
        "\n",
        "plt.xticks(np.arange(0,10+1, 1))\n",
        "plt.yticks(np.arange(0,10+1, 1))\n",
        "plt.xlabel('Real \"Quality\"')\n",
        "plt.ylabel('Predicted \"Quality\"')\n",
        "plt.title('Full model no standarized: Predicted vs Real Values')\n",
        "plt.legend()\n",
        "plt.grid(color = \"gray\",\n",
        "         alpha = 0.3)\n",
        "\n",
        "\n",
        "\n",
        "\n",
        "plt.subplot(1, 2, 2)\n",
        "\n",
        "plt.scatter(df_target_stand.sort_index(),\n",
        "                model7_y_stand.sort_index(),\n",
        "                color='lightskyblue',\n",
        "                edgecolor = \"black\",\n",
        "                label='Predicted vs Real',\n",
        "                alpha = 0.3)\n",
        "\n",
        "\n",
        "max_val = max(np.max(df_target_stand), np.max(model7_y_stand))\n",
        "plt.plot([-3, max_val], [-3, max_val],\n",
        "         color='red',\n",
        "         linestyle='--',\n",
        "         label='Perfect Prediction')\n",
        "\n",
        "plt.xticks(np.arange(-3,3+1, 1))\n",
        "plt.yticks(np.arange(-3,3+1, 1))\n",
        "plt.xlabel('Real \"Quality\"')\n",
        "plt.ylabel('Predicted \"Quality\"')\n",
        "plt.title('Full model standarized: Predicted vs Real Values')\n",
        "plt.legend()\n",
        "plt.grid(color = \"gray\",\n",
        "         alpha = 0.3)\n",
        "\n",
        "\n",
        "plt.show()"
      ],
      "metadata": {
        "execution": {
          "iopub.status.busy": "2024-05-14T10:25:07.053023Z",
          "iopub.execute_input": "2024-05-14T10:25:07.053458Z",
          "iopub.status.idle": "2024-05-14T10:25:07.713969Z",
          "shell.execute_reply.started": "2024-05-14T10:25:07.053423Z",
          "shell.execute_reply": "2024-05-14T10:25:07.712764Z"
        },
        "trusted": true,
        "id": "rfch96IaaYQC"
      },
      "execution_count": null,
      "outputs": []
    }
  ]
}