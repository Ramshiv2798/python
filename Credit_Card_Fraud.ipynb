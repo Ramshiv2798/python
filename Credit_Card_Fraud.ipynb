{
  "metadata": {
    "kernelspec": {
      "language": "python",
      "display_name": "Python 3",
      "name": "python3"
    },
    "language_info": {
      "name": "python",
      "version": "3.10.13",
      "mimetype": "text/x-python",
      "codemirror_mode": {
        "name": "ipython",
        "version": 3
      },
      "pygments_lexer": "ipython3",
      "nbconvert_exporter": "python",
      "file_extension": ".py"
    },
    "kaggle": {
      "accelerator": "none",
      "dataSources": [
        {
          "sourceId": 23498,
          "sourceType": "datasetVersion",
          "datasetId": 310
        }
      ],
      "dockerImageVersionId": 30698,
      "isInternetEnabled": true,
      "language": "python",
      "sourceType": "notebook",
      "isGpuEnabled": false
    },
    "colab": {
      "name": "Credit Card Fraud",
      "provenance": [],
      "include_colab_link": true
    }
  },
  "nbformat_minor": 0,
  "nbformat": 4,
  "cells": [
    {
      "cell_type": "markdown",
      "metadata": {
        "id": "view-in-github",
        "colab_type": "text"
      },
      "source": [
        "<a href=\"https://colab.research.google.com/github/Ramshiv2798/python/blob/main/Credit_Card_Fraud.ipynb\" target=\"_parent\"><img src=\"https://colab.research.google.com/assets/colab-badge.svg\" alt=\"Open In Colab\"/></a>"
      ]
    },
    {
      "source": [
        "# IMPORTANT: RUN THIS CELL IN ORDER TO IMPORT YOUR KAGGLE DATA SOURCES,\n",
        "# THEN FEEL FREE TO DELETE THIS CELL.\n",
        "# NOTE: THIS NOTEBOOK ENVIRONMENT DIFFERS FROM KAGGLE'S PYTHON\n",
        "# ENVIRONMENT SO THERE MAY BE MISSING LIBRARIES USED BY YOUR\n",
        "# NOTEBOOK.\n",
        "import kagglehub\n",
        "organizations_mlg_ulb_creditcardfraud_path = kagglehub.dataset_download('organizations/mlg-ulb/creditcardfraud')\n",
        "\n",
        "print('Data source import complete.')\n"
      ],
      "metadata": {
        "id": "mvulMSuUbX47"
      },
      "cell_type": "code",
      "outputs": [],
      "execution_count": null
    },
    {
      "cell_type": "code",
      "source": [
        "import numpy as np\n",
        "import pandas as pd\n",
        "\n",
        "\n",
        "\n",
        "import os\n",
        "for dirname, _, filenames in os.walk('/kaggle/input'):\n",
        "    for filename in filenames:\n",
        "        print(os.path.join(dirname, filename))"
      ],
      "metadata": {
        "_uuid": "8f2839f25d086af736a60e9eeb907d3b93b6e0e5",
        "_cell_guid": "b1076dfc-b9ad-4769-8c92-a6c4dae69d19",
        "execution": {
          "iopub.status.busy": "2024-05-14T05:49:18.358699Z",
          "iopub.execute_input": "2024-05-14T05:49:18.359324Z",
          "iopub.status.idle": "2024-05-14T05:49:19.712799Z",
          "shell.execute_reply.started": "2024-05-14T05:49:18.359291Z",
          "shell.execute_reply": "2024-05-14T05:49:19.711318Z"
        },
        "trusted": true,
        "id": "-rpciN4vbX48"
      },
      "execution_count": null,
      "outputs": []
    },
    {
      "cell_type": "code",
      "source": [
        "import pandas as pd\n",
        "import numpy as np\n",
        "import matplotlib.pyplot as plt\n",
        "import seaborn as sns"
      ],
      "metadata": {
        "execution": {
          "iopub.status.busy": "2024-05-14T05:50:55.227505Z",
          "iopub.execute_input": "2024-05-14T05:50:55.228009Z",
          "iopub.status.idle": "2024-05-14T05:50:55.851406Z",
          "shell.execute_reply.started": "2024-05-14T05:50:55.227979Z",
          "shell.execute_reply": "2024-05-14T05:50:55.850142Z"
        },
        "trusted": true,
        "id": "0_YWAn8RbX49"
      },
      "execution_count": null,
      "outputs": []
    },
    {
      "cell_type": "code",
      "source": [
        "data = pd.read_csv(\"/kaggle/input/creditcardfraud/creditcard.csv\")"
      ],
      "metadata": {
        "execution": {
          "iopub.status.busy": "2024-05-14T05:51:59.5259Z",
          "iopub.execute_input": "2024-05-14T05:51:59.526273Z",
          "iopub.status.idle": "2024-05-14T05:52:03.498452Z",
          "shell.execute_reply.started": "2024-05-14T05:51:59.526246Z",
          "shell.execute_reply": "2024-05-14T05:52:03.497386Z"
        },
        "trusted": true,
        "id": "iv3xjZGnbX4-"
      },
      "execution_count": null,
      "outputs": []
    },
    {
      "cell_type": "code",
      "source": [
        "data.head()"
      ],
      "metadata": {
        "execution": {
          "iopub.status.busy": "2024-05-14T05:56:37.99211Z",
          "iopub.execute_input": "2024-05-14T05:56:37.99302Z",
          "iopub.status.idle": "2024-05-14T05:56:38.031141Z",
          "shell.execute_reply.started": "2024-05-14T05:56:37.992987Z",
          "shell.execute_reply": "2024-05-14T05:56:38.029912Z"
        },
        "trusted": true,
        "id": "uylMri_8bX4-"
      },
      "execution_count": null,
      "outputs": []
    },
    {
      "cell_type": "code",
      "source": [
        "data.info()"
      ],
      "metadata": {
        "execution": {
          "iopub.status.busy": "2024-05-14T05:59:06.497664Z",
          "iopub.execute_input": "2024-05-14T05:59:06.498056Z",
          "iopub.status.idle": "2024-05-14T05:59:06.54028Z",
          "shell.execute_reply.started": "2024-05-14T05:59:06.498025Z",
          "shell.execute_reply": "2024-05-14T05:59:06.539177Z"
        },
        "trusted": true,
        "id": "fKcC4YRbbX4_"
      },
      "execution_count": null,
      "outputs": []
    },
    {
      "cell_type": "code",
      "source": [
        "data['Class'].value_counts()"
      ],
      "metadata": {
        "execution": {
          "iopub.status.busy": "2024-05-14T05:59:27.232053Z",
          "iopub.execute_input": "2024-05-14T05:59:27.233227Z",
          "iopub.status.idle": "2024-05-14T05:59:27.247391Z",
          "shell.execute_reply.started": "2024-05-14T05:59:27.233183Z",
          "shell.execute_reply": "2024-05-14T05:59:27.246047Z"
        },
        "trusted": true,
        "id": "5JpcGwHQbX4_"
      },
      "execution_count": null,
      "outputs": []
    },
    {
      "cell_type": "code",
      "source": [
        "data.hist(bins = 30, figsize = (30, 30))"
      ],
      "metadata": {
        "execution": {
          "iopub.status.busy": "2024-05-14T05:59:51.699805Z",
          "iopub.execute_input": "2024-05-14T05:59:51.700183Z",
          "iopub.status.idle": "2024-05-14T06:00:00.292278Z",
          "shell.execute_reply.started": "2024-05-14T05:59:51.700155Z",
          "shell.execute_reply": "2024-05-14T06:00:00.291268Z"
        },
        "trusted": true,
        "id": "wMnQww4AbX5A"
      },
      "execution_count": null,
      "outputs": []
    },
    {
      "cell_type": "code",
      "source": [
        "data.describe()"
      ],
      "metadata": {
        "execution": {
          "iopub.status.busy": "2024-05-14T06:02:49.192023Z",
          "iopub.execute_input": "2024-05-14T06:02:49.192391Z",
          "iopub.status.idle": "2024-05-14T06:02:49.653277Z",
          "shell.execute_reply.started": "2024-05-14T06:02:49.192364Z",
          "shell.execute_reply": "2024-05-14T06:02:49.652183Z"
        },
        "trusted": true,
        "id": "Czqaths3bX5A"
      },
      "execution_count": null,
      "outputs": []
    },
    {
      "cell_type": "code",
      "source": [
        "from sklearn.preprocessing import RobustScaler\n",
        "\n",
        "\n",
        "new_data = data.copy()\n",
        "\n",
        "\n",
        "scaler = RobustScaler()\n",
        "\n",
        "\n",
        "amount_reshaped = new_data['Amount'].to_numpy().reshape(-1, 1)\n",
        "\n",
        "\n",
        "new_data['Amount'] = scaler.fit_transform(amount_reshaped)\n",
        "\n",
        "\n",
        "new_data['Amount'].hist()"
      ],
      "metadata": {
        "execution": {
          "iopub.status.busy": "2024-05-14T06:03:45.879159Z",
          "iopub.execute_input": "2024-05-14T06:03:45.879989Z",
          "iopub.status.idle": "2024-05-14T06:03:46.272736Z",
          "shell.execute_reply.started": "2024-05-14T06:03:45.87995Z",
          "shell.execute_reply": "2024-05-14T06:03:46.271255Z"
        },
        "trusted": true,
        "id": "pPHOeA5BbX5A"
      },
      "execution_count": null,
      "outputs": []
    },
    {
      "cell_type": "code",
      "source": [
        "new_data['Amount'].describe()"
      ],
      "metadata": {
        "execution": {
          "iopub.status.busy": "2024-05-14T06:10:26.23042Z",
          "iopub.execute_input": "2024-05-14T06:10:26.230803Z",
          "iopub.status.idle": "2024-05-14T06:10:26.258059Z",
          "shell.execute_reply.started": "2024-05-14T06:10:26.230775Z",
          "shell.execute_reply": "2024-05-14T06:10:26.256893Z"
        },
        "trusted": true,
        "id": "YYQkuBh_bX5B"
      },
      "execution_count": null,
      "outputs": []
    },
    {
      "cell_type": "code",
      "source": [
        "time = new_data['Time']\n",
        "new_data['Time'] = (time - time.min()) / (time.max() - time.min())\n",
        "new_data['Time']"
      ],
      "metadata": {
        "execution": {
          "iopub.status.busy": "2024-05-14T06:10:44.256202Z",
          "iopub.execute_input": "2024-05-14T06:10:44.25886Z",
          "iopub.status.idle": "2024-05-14T06:10:44.273301Z",
          "shell.execute_reply.started": "2024-05-14T06:10:44.258822Z",
          "shell.execute_reply": "2024-05-14T06:10:44.272199Z"
        },
        "trusted": true,
        "id": "32hfZaVkbX5B"
      },
      "execution_count": null,
      "outputs": []
    },
    {
      "cell_type": "code",
      "source": [
        "np.random.seed(42)\n",
        "new_data_shuffle = new_data.sample(frac  = 1).reset_index(drop = True)\n",
        "new_data_shuffle"
      ],
      "metadata": {
        "execution": {
          "iopub.status.busy": "2024-05-14T06:10:58.864888Z",
          "iopub.execute_input": "2024-05-14T06:10:58.865318Z",
          "iopub.status.idle": "2024-05-14T06:10:59.191307Z",
          "shell.execute_reply.started": "2024-05-14T06:10:58.865287Z",
          "shell.execute_reply": "2024-05-14T06:10:59.190185Z"
        },
        "trusted": true,
        "id": "KLNOtwEbbX5B"
      },
      "execution_count": null,
      "outputs": []
    },
    {
      "cell_type": "code",
      "source": [
        "train, test, val = new_data_shuffle[:240000], new_data_shuffle[240000: 262000], new_data_shuffle[262000:]\n",
        "\n",
        "train['Class'].value_counts(), test['Class'].value_counts(), val['Class'].value_counts()"
      ],
      "metadata": {
        "execution": {
          "iopub.status.busy": "2024-05-14T06:14:21.160259Z",
          "iopub.execute_input": "2024-05-14T06:14:21.160682Z",
          "iopub.status.idle": "2024-05-14T06:14:21.175419Z",
          "shell.execute_reply.started": "2024-05-14T06:14:21.160649Z",
          "shell.execute_reply": "2024-05-14T06:14:21.174174Z"
        },
        "trusted": true,
        "id": "VR20ekDvbX5C"
      },
      "execution_count": null,
      "outputs": []
    },
    {
      "cell_type": "code",
      "source": [
        "import numpy as np\n",
        "\n",
        "\n",
        "\n",
        "\n",
        "train_shape, test_shape, val_shape = train.shape, test.shape, val.shape\n",
        "\n",
        "\n",
        "print(\"Train shape:\", train_shape)\n",
        "print(\"Test shape:\", test_shape)\n",
        "print(\"Validation shape:\", val_shape)"
      ],
      "metadata": {
        "execution": {
          "iopub.status.busy": "2024-05-14T06:16:59.045013Z",
          "iopub.execute_input": "2024-05-14T06:16:59.045438Z",
          "iopub.status.idle": "2024-05-14T06:16:59.053123Z",
          "shell.execute_reply.started": "2024-05-14T06:16:59.045382Z",
          "shell.execute_reply": "2024-05-14T06:16:59.051512Z"
        },
        "trusted": true,
        "id": "yf2hSW7abX5C"
      },
      "execution_count": null,
      "outputs": []
    },
    {
      "cell_type": "code",
      "source": [
        "x_train, y_train = train.iloc[:, :-1], train.iloc[:, -1]\n",
        "x_test, y_test = test.iloc[:, :-1], test.iloc[:, -1]\n",
        "x_val, y_val = val.iloc[:, :-1], val.iloc[:, -1]"
      ],
      "metadata": {
        "execution": {
          "iopub.status.busy": "2024-05-14T06:28:17.810669Z",
          "iopub.execute_input": "2024-05-14T06:28:17.811076Z",
          "iopub.status.idle": "2024-05-14T06:28:17.846141Z",
          "shell.execute_reply.started": "2024-05-14T06:28:17.811044Z",
          "shell.execute_reply": "2024-05-14T06:28:17.844682Z"
        },
        "trusted": true,
        "id": "KJaStPCFbX5C"
      },
      "execution_count": null,
      "outputs": []
    },
    {
      "cell_type": "code",
      "source": [
        "from sklearn.linear_model import LogisticRegression\n",
        "logistic = LogisticRegression()\n",
        "\n",
        "logistic.fit(x_train, y_train)\n",
        "\n",
        "logistic.score(x_train, y_train)"
      ],
      "metadata": {
        "execution": {
          "iopub.status.busy": "2024-05-14T06:28:32.534172Z",
          "iopub.execute_input": "2024-05-14T06:28:32.534738Z",
          "iopub.status.idle": "2024-05-14T06:28:36.327857Z",
          "shell.execute_reply.started": "2024-05-14T06:28:32.534697Z",
          "shell.execute_reply": "2024-05-14T06:28:36.326689Z"
        },
        "trusted": true,
        "id": "kpJxtCTUbX5C"
      },
      "execution_count": null,
      "outputs": []
    },
    {
      "cell_type": "code",
      "source": [
        "from sklearn.metrics import classification_report\n",
        "\n",
        "\n",
        "target_labels = ['Not Fraud', 'Fraud']\n",
        "\n",
        "\n",
        "report = classification_report(y_val, logistic.predict(x_val), target_names=target_labels)\n",
        "\n",
        "\n",
        "print(report)"
      ],
      "metadata": {
        "execution": {
          "iopub.status.busy": "2024-05-14T06:29:05.940761Z",
          "iopub.execute_input": "2024-05-14T06:29:05.941186Z",
          "iopub.status.idle": "2024-05-14T06:29:06.023022Z",
          "shell.execute_reply.started": "2024-05-14T06:29:05.941153Z",
          "shell.execute_reply": "2024-05-14T06:29:06.021659Z"
        },
        "trusted": true,
        "id": "rzMU28BlbX5D"
      },
      "execution_count": null,
      "outputs": []
    },
    {
      "cell_type": "code",
      "source": [
        "from tensorflow.keras.models import Sequential\n",
        "from tensorflow.keras.layers import Input, Dense, BatchNormalization\n",
        "from tensorflow.keras.callbacks import ModelCheckpoint\n",
        "\n",
        "\n",
        "shallow_nn = Sequential()\n",
        "\n",
        "\n",
        "\n",
        "shallow_nn.add(Input(shape=(x_train.shape[1],)))\n",
        "\n",
        "shallow_nn.add(BatchNormalization())\n",
        "shallow_nn.add(Dense(1, activation='sigmoid'))\n",
        "\n",
        "\n",
        "\n",
        "checkpoint_callback = ModelCheckpoint(filepath='best_model.keras', monitor='val_accuracy', mode='max', save_best_only=True)\n",
        "\n",
        "\n",
        "shallow_nn.compile(optimizer='adam', loss='binary_crossentropy', metrics=['accuracy'])\n",
        "\n",
        "\n",
        "shallow_nn.summary()"
      ],
      "metadata": {
        "execution": {
          "iopub.status.busy": "2024-05-14T06:41:48.145248Z",
          "iopub.execute_input": "2024-05-14T06:41:48.145647Z",
          "iopub.status.idle": "2024-05-14T06:42:02.656895Z",
          "shell.execute_reply.started": "2024-05-14T06:41:48.145615Z",
          "shell.execute_reply": "2024-05-14T06:42:02.655582Z"
        },
        "trusted": true,
        "id": "Fal__lETbX5D"
      },
      "execution_count": null,
      "outputs": []
    },
    {
      "cell_type": "code",
      "source": [
        "shallow_nn.fit(x_train, y_train, validation_data=(x_val, y_val), epochs=5, callbacks=[checkpoint_callback])"
      ],
      "metadata": {
        "execution": {
          "iopub.status.busy": "2024-05-14T06:43:22.563364Z",
          "iopub.execute_input": "2024-05-14T06:43:22.563771Z",
          "iopub.status.idle": "2024-05-14T06:44:15.507036Z",
          "shell.execute_reply.started": "2024-05-14T06:43:22.563741Z",
          "shell.execute_reply": "2024-05-14T06:44:15.505925Z"
        },
        "trusted": true,
        "id": "Zc80lbNlbX5D"
      },
      "execution_count": null,
      "outputs": []
    },
    {
      "cell_type": "code",
      "source": [
        "(shallow_nn.predict(x_test).flatten() > 0.5).astype(int)"
      ],
      "metadata": {
        "execution": {
          "iopub.status.busy": "2024-05-14T06:47:40.533032Z",
          "iopub.execute_input": "2024-05-14T06:47:40.533454Z",
          "iopub.status.idle": "2024-05-14T06:47:41.661685Z",
          "shell.execute_reply.started": "2024-05-14T06:47:40.533424Z",
          "shell.execute_reply": "2024-05-14T06:47:41.660661Z"
        },
        "trusted": true,
        "id": "DgUsL_eNbX5D"
      },
      "execution_count": null,
      "outputs": []
    },
    {
      "cell_type": "code",
      "source": [
        "y_pred_prob = shallow_nn.predict(x_val)\n",
        "\n",
        "\n",
        "y_pred = (y_pred_prob > 0.5).astype(int)\n",
        "\n",
        "\n",
        "report = classification_report(y_val, y_pred)\n",
        "\n",
        "\n",
        "print(report)"
      ],
      "metadata": {
        "execution": {
          "iopub.status.busy": "2024-05-14T06:48:08.54969Z",
          "iopub.execute_input": "2024-05-14T06:48:08.550078Z",
          "iopub.status.idle": "2024-05-14T06:48:09.692162Z",
          "shell.execute_reply.started": "2024-05-14T06:48:08.550049Z",
          "shell.execute_reply": "2024-05-14T06:48:09.690821Z"
        },
        "trusted": true,
        "id": "zcTGCv5TbX5E"
      },
      "execution_count": null,
      "outputs": []
    },
    {
      "cell_type": "code",
      "source": [
        "from sklearn.ensemble import RandomForestClassifier\n",
        "from sklearn.metrics import classification_report\n",
        "\n",
        "\n",
        "rf = RandomForestClassifier(max_depth=2, n_jobs=-1)\n",
        "rf.fit(x_train, y_train)\n",
        "\n",
        "\n",
        "y_pred = rf.predict(x_val)\n",
        "\n",
        "\n",
        "report = classification_report(y_val, y_pred)\n",
        "\n",
        "\n",
        "print(report)"
      ],
      "metadata": {
        "execution": {
          "iopub.status.busy": "2024-05-14T06:53:13.452956Z",
          "iopub.execute_input": "2024-05-14T06:53:13.453405Z",
          "iopub.status.idle": "2024-05-14T06:53:28.374329Z",
          "shell.execute_reply.started": "2024-05-14T06:53:13.453371Z",
          "shell.execute_reply": "2024-05-14T06:53:28.373041Z"
        },
        "trusted": true,
        "id": "jWKf6rV2bX5E"
      },
      "execution_count": null,
      "outputs": []
    },
    {
      "cell_type": "code",
      "source": [
        "not_frauds = new_data.query('Class == 0')\n",
        "frauds = new_data.query('Class == 1')\n",
        "\n",
        "not_frauds['Class'].value_counts(), frauds['Class'].value_counts()"
      ],
      "metadata": {
        "execution": {
          "iopub.status.busy": "2024-05-14T06:54:20.48091Z",
          "iopub.execute_input": "2024-05-14T06:54:20.481888Z",
          "iopub.status.idle": "2024-05-14T06:54:20.559848Z",
          "shell.execute_reply.started": "2024-05-14T06:54:20.481848Z",
          "shell.execute_reply": "2024-05-14T06:54:20.55885Z"
        },
        "trusted": true,
        "id": "xsbaoFI-bX5E"
      },
      "execution_count": null,
      "outputs": []
    },
    {
      "cell_type": "code",
      "source": [
        "balance_data = pd.concat([frauds, not_frauds.sample(len(frauds), random_state = 42)])\n",
        "\n",
        "balance_data['Class'].value_counts()"
      ],
      "metadata": {
        "execution": {
          "iopub.status.busy": "2024-05-14T06:56:08.26481Z",
          "iopub.execute_input": "2024-05-14T06:56:08.26522Z",
          "iopub.status.idle": "2024-05-14T06:56:08.285898Z",
          "shell.execute_reply.started": "2024-05-14T06:56:08.26519Z",
          "shell.execute_reply": "2024-05-14T06:56:08.284555Z"
        },
        "trusted": true,
        "id": "3AM4C0apbX5F"
      },
      "execution_count": null,
      "outputs": []
    },
    {
      "cell_type": "code",
      "source": [
        "balance_data = balance_data.sample(frac = 1, random_state = 42)\n",
        "balance_data"
      ],
      "metadata": {
        "execution": {
          "iopub.status.busy": "2024-05-14T06:56:25.010099Z",
          "iopub.execute_input": "2024-05-14T06:56:25.010598Z",
          "iopub.status.idle": "2024-05-14T06:56:25.043775Z",
          "shell.execute_reply.started": "2024-05-14T06:56:25.01056Z",
          "shell.execute_reply": "2024-05-14T06:56:25.04259Z"
        },
        "trusted": true,
        "id": "iHE0nw3XbX5F"
      },
      "execution_count": null,
      "outputs": []
    },
    {
      "cell_type": "code",
      "source": [
        "from sklearn.model_selection import train_test_split\n",
        "\n",
        "\n",
        "balance_data_numpy = balance_data.to_numpy()\n",
        "\n",
        "\n",
        "X = balance_data_numpy[:, :-1]\n",
        "y = balance_data_numpy[:, -1]\n",
        "\n",
        "\n",
        "X_train, X_temp, y_train, y_temp = train_test_split(X, y, test_size=0.2, random_state=42)\n",
        "\n",
        "\n",
        "X_test, X_val, y_test, y_val = train_test_split(X_temp, y_temp, test_size=0.5, random_state=42)\n",
        "\n",
        "\n",
        "print(\"X_train shape:\", X_train.shape)\n",
        "print(\"y_train shape:\", y_train.shape)\n",
        "print(\"X_test shape:\", X_test.shape)\n",
        "print(\"y_test shape:\", y_test.shape)\n",
        "print(\"X_val shape:\", X_val.shape)\n",
        "print(\"y_val shape:\", y_val.shape)\n"
      ],
      "metadata": {
        "execution": {
          "iopub.status.busy": "2024-05-14T06:59:04.445765Z",
          "iopub.execute_input": "2024-05-14T06:59:04.446278Z",
          "iopub.status.idle": "2024-05-14T06:59:04.457534Z",
          "shell.execute_reply.started": "2024-05-14T06:59:04.446233Z",
          "shell.execute_reply": "2024-05-14T06:59:04.456324Z"
        },
        "trusted": true,
        "id": "ocziqqlNbX5F"
      },
      "execution_count": null,
      "outputs": []
    },
    {
      "cell_type": "code",
      "source": [
        "pd.Series(y_train).value_counts()"
      ],
      "metadata": {
        "execution": {
          "iopub.status.busy": "2024-05-14T06:59:19.412535Z",
          "iopub.execute_input": "2024-05-14T06:59:19.412931Z",
          "iopub.status.idle": "2024-05-14T06:59:19.424582Z",
          "shell.execute_reply.started": "2024-05-14T06:59:19.4129Z",
          "shell.execute_reply": "2024-05-14T06:59:19.423147Z"
        },
        "trusted": true,
        "id": "Ji0yzgKabX5G"
      },
      "execution_count": null,
      "outputs": []
    },
    {
      "cell_type": "code",
      "source": [
        "from sklearn.linear_model import LogisticRegression\n",
        "logistic = LogisticRegression()\n",
        "\n",
        "logistic.fit(X_train, y_train)\n",
        "\n",
        "logistic.score(X_train, y_train)"
      ],
      "metadata": {
        "execution": {
          "iopub.status.busy": "2024-05-14T06:59:45.630922Z",
          "iopub.execute_input": "2024-05-14T06:59:45.631334Z",
          "iopub.status.idle": "2024-05-14T06:59:45.669668Z",
          "shell.execute_reply.started": "2024-05-14T06:59:45.631303Z",
          "shell.execute_reply": "2024-05-14T06:59:45.668425Z"
        },
        "trusted": true,
        "id": "2HYiYyQUbX5G"
      },
      "execution_count": null,
      "outputs": []
    },
    {
      "cell_type": "code",
      "source": [
        "from sklearn.metrics import classification_report\n",
        "\n",
        "\n",
        "target_labels = ['Not Fraud', 'Fraud']\n",
        "\n",
        "\n",
        "report = classification_report(y_val, logistic.predict(X_val), target_names=target_labels)\n",
        "\n",
        "\n",
        "print(report)"
      ],
      "metadata": {
        "execution": {
          "iopub.status.busy": "2024-05-14T07:07:11.958645Z",
          "iopub.execute_input": "2024-05-14T07:07:11.959362Z",
          "iopub.status.idle": "2024-05-14T07:07:11.973818Z",
          "shell.execute_reply.started": "2024-05-14T07:07:11.959326Z",
          "shell.execute_reply": "2024-05-14T07:07:11.972802Z"
        },
        "trusted": true,
        "id": "osS4EerebX5G"
      },
      "execution_count": null,
      "outputs": []
    },
    {
      "cell_type": "code",
      "source": [
        "from tensorflow.keras.models import Sequential\n",
        "from tensorflow.keras.layers import Input, Dense, BatchNormalization\n",
        "from tensorflow.keras.callbacks import ModelCheckpoint\n",
        "\n",
        "\n",
        "shallow_nn = Sequential()\n",
        "\n",
        "\n",
        "shallow_nn.add(Input(shape=(X_train.shape[1],)))\n",
        "shallow_nn.add(BatchNormalization())\n",
        "shallow_nn.add(Dense(1, activation='sigmoid')) # Output layer with sigmoid activation for binary classification\n",
        "\n",
        "\n",
        "checkpoint_callback = ModelCheckpoint(filepath='best_model.keras', monitor='val_accuracy', mode='max', save_best_only=True)\n",
        "\n",
        "\n",
        "shallow_nn.compile(optimizer='adam', loss='binary_crossentropy', metrics=['accuracy'])\n",
        "\n",
        "\n",
        "shallow_nn.summary()"
      ],
      "metadata": {
        "execution": {
          "iopub.status.busy": "2024-05-14T07:13:42.440659Z",
          "iopub.execute_input": "2024-05-14T07:13:42.441051Z",
          "iopub.status.idle": "2024-05-14T07:13:42.495355Z",
          "shell.execute_reply.started": "2024-05-14T07:13:42.441024Z",
          "shell.execute_reply": "2024-05-14T07:13:42.494171Z"
        },
        "trusted": true,
        "id": "MCAkuf-UbX5G"
      },
      "execution_count": null,
      "outputs": []
    },
    {
      "cell_type": "code",
      "source": [
        "shallow_nn.fit(X_train, y_train, validation_data=(X_val, y_val), epochs=5, callbacks=[checkpoint_callback])"
      ],
      "metadata": {
        "execution": {
          "iopub.status.busy": "2024-05-14T07:14:00.421677Z",
          "iopub.execute_input": "2024-05-14T07:14:00.422048Z",
          "iopub.status.idle": "2024-05-14T07:14:02.101429Z",
          "shell.execute_reply.started": "2024-05-14T07:14:00.422021Z",
          "shell.execute_reply": "2024-05-14T07:14:02.10028Z"
        },
        "trusted": true,
        "id": "0lbtBvRTbX5H"
      },
      "execution_count": null,
      "outputs": []
    },
    {
      "cell_type": "code",
      "source": [
        "y_pred_prob = shallow_nn.predict(X_val)\n",
        "\n",
        "\n",
        "y_pred = (y_pred_prob > 0.5).astype(int)\n",
        "\n",
        "\n",
        "report = classification_report(y_val, y_pred)\n",
        "\n",
        "\n",
        "print(report)"
      ],
      "metadata": {
        "execution": {
          "iopub.status.busy": "2024-05-14T07:14:28.386188Z",
          "iopub.execute_input": "2024-05-14T07:14:28.386569Z",
          "iopub.status.idle": "2024-05-14T07:14:28.551036Z",
          "shell.execute_reply.started": "2024-05-14T07:14:28.386541Z",
          "shell.execute_reply": "2024-05-14T07:14:28.549907Z"
        },
        "trusted": true,
        "id": "Zv7Fm3NibX5H"
      },
      "execution_count": null,
      "outputs": []
    },
    {
      "cell_type": "code",
      "source": [
        "from sklearn.ensemble import RandomForestClassifier\n",
        "from sklearn.metrics import classification_report\n",
        "\n",
        "\n",
        "rf = RandomForestClassifier(max_depth=2, n_jobs=-1)\n",
        "rf.fit(X_train, y_train)\n",
        "\n",
        "\n",
        "y_pred = rf.predict(X_val)\n",
        "\n",
        "\n",
        "report = classification_report(y_val, y_pred)\n",
        "\n",
        "\n",
        "print(report)"
      ],
      "metadata": {
        "execution": {
          "iopub.status.busy": "2024-05-14T07:15:35.919836Z",
          "iopub.execute_input": "2024-05-14T07:15:35.920513Z",
          "iopub.status.idle": "2024-05-14T07:15:36.223972Z",
          "shell.execute_reply.started": "2024-05-14T07:15:35.92048Z",
          "shell.execute_reply": "2024-05-14T07:15:36.222939Z"
        },
        "trusted": true,
        "id": "KZZqlfrfbX5H"
      },
      "execution_count": null,
      "outputs": []
    },
    {
      "cell_type": "code",
      "source": [
        "from sklearn.ensemble import GradientBoostingClassifier\n",
        "from sklearn.metrics import classification_report\n",
        "\n",
        "\n",
        "gbc = GradientBoostingClassifier(learning_rate=1, n_estimators=50)\n",
        "\n",
        "\n",
        "gbc.fit(X_train, y_train)\n",
        "\n",
        "\n",
        "y_pred = gbc.predict(X_val)\n",
        "\n",
        "report = classification_report(y_val, y_pred)\n",
        "\n",
        "\n",
        "print(report)"
      ],
      "metadata": {
        "execution": {
          "iopub.status.busy": "2024-05-14T07:16:37.433968Z",
          "iopub.execute_input": "2024-05-14T07:16:37.434336Z",
          "iopub.status.idle": "2024-05-14T07:16:37.869369Z",
          "shell.execute_reply.started": "2024-05-14T07:16:37.434309Z",
          "shell.execute_reply": "2024-05-14T07:16:37.868281Z"
        },
        "trusted": true,
        "id": "AbnQbTs5bX5I"
      },
      "execution_count": null,
      "outputs": []
    },
    {
      "cell_type": "code",
      "source": [
        "from sklearn.svm import LinearSVC\n",
        "from sklearn.metrics import classification_report\n",
        "\n",
        "\n",
        "svc = LinearSVC(class_weight='balanced')\n",
        "\n",
        "\n",
        "svc.fit(X_train, y_train)\n",
        "\n",
        "\n",
        "y_pred = svc.predict(X_val)\n",
        "\n",
        "\n",
        "report = classification_report(y_val, y_pred)\n",
        "\n",
        "\n",
        "print(report)"
      ],
      "metadata": {
        "execution": {
          "iopub.status.busy": "2024-05-14T07:17:56.369126Z",
          "iopub.execute_input": "2024-05-14T07:17:56.369542Z",
          "iopub.status.idle": "2024-05-14T07:17:56.423099Z",
          "shell.execute_reply.started": "2024-05-14T07:17:56.369511Z",
          "shell.execute_reply": "2024-05-14T07:17:56.421856Z"
        },
        "trusted": true,
        "id": "SHAoY-LSbX5I"
      },
      "execution_count": null,
      "outputs": []
    }
  ]
}